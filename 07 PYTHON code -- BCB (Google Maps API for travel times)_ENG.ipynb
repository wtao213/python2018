{
 "cells": [
  {
   "cell_type": "markdown",
   "metadata": {},
   "source": [
    "# API for Google Maps\n",
    "## Case: \"Private Banking Advisers at BCB Edmonton\" ([UVA-QA-0905](http://store.darden.virginia.edu/private-banking-advisers-at-bcb-edmonton-a), [0906](http://store.darden.virginia.edu/private-banking-advisers-at-bcb-edmonton-b-visualizing-the-business), [0907](http://store.darden.virginia.edu/private-banking-advisers-at-bcb-edmonton-c-calculating-travel-times))\n",
    "\n",
    "[Application Programming Interface (API)](https://en.wikipedia.org/wiki/API) allows one program communicate with another. \n",
    "\n",
    "Recall the BCB Edmonton case: the case protagonist needs to determine how many private bankers advisers she needs for the region, where should they be located, and which of the 35 branches should be covered by which advisor. A sub-task to this problem is to determine how long it will take an advisor with a home base at branch 'i' to travel to branch 'j' and back to cover for the appointments at 'j'. \n",
    "\n",
    "How would you go about finding the travel time from point A to point B in your daily life? Most likely, you would use a mapping app on your computer or smartphone -- Google Maps, Bing Maps, Yandex Maps, or the like. You would type the origin address (that of point A), the destination address (that of point B), the travel mode (walking, driving, etc.) and the time (now, or some time in the future). The app would then give you the estimated travel time. \n",
    "\n",
    "The code below does just that for 35x35 = 1,225 origin-destination pairs corresponding to the BCB branches in Edmonton.\n",
    "\n",
    "<b> Note: </b> To use the code you will need to obtain the Google Maps Distance Matrix API key, which can be requested here https://developers.google.com/maps/documentation/distance-matrix/get-api-key#key You will need to enter your credit card number, but the personal use of the API within the scope of this case should not lead to any cost. Do not share your API key with others (if many people use your key, you may be billed)."
   ]
  },
  {
   "cell_type": "code",
   "execution_count": 1,
   "metadata": {},
   "outputs": [],
   "source": [
    "# Start by importing (loading) the necessary packages and libraries\n",
    "\n",
    "import json\n",
    "import requests\n",
    "import csv\n",
    "import pandas as pd"
   ]
  },
  {
   "cell_type": "code",
   "execution_count": 2,
   "metadata": {},
   "outputs": [],
   "source": [
    "# This block defines several custom functions which are necessary since Google Maps API only allows 25 origin-destination pairs at a time\n",
    "# 1) API_response function is actually interacting with Google Maps API\n",
    "# 2) chunks function is splitting the larger set of origin-destinations into chunks of less than 25\n",
    "# 3) getDistance function is using the API_response function with chunks function to obtain the results for all the origin-destination pairs\n",
    "\n",
    "def API_response(origin,destinations,time):\n",
    "\n",
    "    base_url = 'https://maps.googleapis.com/maps/api/distancematrix/json?'\n",
    "\n",
    "    # your own Google Maps Distance Matrix API key goes here: \n",
    "    api_key = 'ADD YOUR API CODE HERE' \n",
    "\n",
    "    parameters = {'origins': origin,\n",
    "            'destinations' : '|'.join(destinations),\n",
    "            'mode' : 'driving',\n",
    "            'key' : api_key,\n",
    "            'departure_time' : time }\n",
    "\n",
    "    r = requests.get(base_url, params = parameters)\n",
    "\n",
    "    r = r.json()\n",
    "\n",
    "    results = r['rows'][0]['elements']\n",
    "\n",
    "    # Google only allows a certain number of API calls per second (to stay within the free API)\n",
    "    # This artifically slows the process to allow the whole matrix to be processed\n",
    "    i = 0\n",
    "    while i < 10000000:\n",
    "        i = i + 1\n",
    "    \n",
    "    return results\n",
    "\n",
    "def chunks(lst, n):\n",
    "    for i in range(0, len(lst), n):\n",
    "        yield lst[i:i + n]\n",
    "\n",
    "       \n",
    "def getDistance(full_origins,destinations,time):\n",
    "\n",
    "    new_dict = {}\n",
    "\n",
    "    for origin in full_origins:\n",
    "\n",
    "        new_list = []\n",
    "\n",
    "        for sub_destinations in chunks(destinations, 24):\n",
    "            results = API_response(origin, sub_destinations, time)\n",
    "            new_list.extend([result['duration']['text'] for result in results])\n",
    "\n",
    "        new_dict[origin] = new_list\n",
    "\n",
    "    return new_dict"
   ]
  },
  {
   "cell_type": "code",
   "execution_count": 3,
   "metadata": {},
   "outputs": [
    {
     "data": {
      "text/plain": [
       "1615542359"
      ]
     },
     "execution_count": 3,
     "metadata": {},
     "output_type": "execute_result"
    }
   ],
   "source": [
    "# Google Maps API uses UNIX time -- the number of seconds since Jan. 1, 1970\n",
    "# For example, Dec 7, 2020 at 9am EST is 1607331600\n",
    "\n",
    "# However, according to the API documentation, datetime cannot be in the past; it must be \"now\" or in the future\n",
    "# The code below will set the time to be one hour (3600 seconds) after the time when this code is ran\n",
    "# Alternatively students could use any the desired departure time (in the form of a UNIX timestamp integer) \n",
    "\n",
    "from datetime import datetime\n",
    "\n",
    "time = int(datetime.timestamp(datetime.now())) + 3600 \n",
    "time\n"
   ]
  },
  {
   "cell_type": "code",
   "execution_count": 4,
   "metadata": {},
   "outputs": [
    {
     "name": "stdout",
     "output_type": "stream",
     "text": [
      "['T4X0B6', 'T5A5C1', 'T5B0S1', 'T5E4C6', 'T5J1V7', 'T5J3N3', 'T5K0M8', 'T5L4Z6', 'T5M2L7', 'T5M3L7', 'T5T1K8', 'T5T5L5', 'T5Y0L2', 'T5Z3J8', 'T6B0P2', 'T6E2A3', 'T6E5A7', 'T6H5T1', 'T6J6P9', 'T6K4B4', 'T6R0G4', 'T6T0C2', 'T6V1J6', 'T6W1A2', 'T6X0P2', 'T7X2K6', 'T7Z2W7', 'T8A4N5', 'T8A5V9', 'T8H1S8', 'T8L3W2', 'T8N3L3', 'T8N5T8', 'T8R1R4', 'T9E6Z7']\n",
      "['T4X0B6', 'T5A5C1', 'T5B0S1', 'T5E4C6', 'T5J1V7', 'T5J3N3', 'T5K0M8', 'T5L4Z6', 'T5M2L7', 'T5M3L7', 'T5T1K8', 'T5T5L5', 'T5Y0L2', 'T5Z3J8', 'T6B0P2', 'T6E2A3', 'T6E5A7', 'T6H5T1', 'T6J6P9', 'T6K4B4', 'T6R0G4', 'T6T0C2', 'T6V1J6', 'T6W1A2', 'T6X0P2', 'T7X2K6', 'T7Z2W7', 'T8A4N5', 'T8A5V9', 'T8H1S8', 'T8L3W2', 'T8N3L3', 'T8N5T8', 'T8R1R4', 'T9E6Z7']\n"
     ]
    }
   ],
   "source": [
    "# Read the (A) case data file (converted into the CSV) and process the PostalCode column by removing the space\n",
    "\n",
    "inputs_df = pd.read_csv(\"QA-0905X.csv\", header = 0)\n",
    "\n",
    "origins = list(inputs_df[\"PostalCode\"].str.split(\" \").str.join('')) # this is to remove the space between the postal codes\n",
    "\n",
    "# Duplicate the list of origins to creat the list of destinations \n",
    "destinations = origins.copy()\n",
    "\n",
    "print(origins)\n",
    "print(destinations)"
   ]
  },
  {
   "cell_type": "code",
   "execution_count": 5,
   "metadata": {},
   "outputs": [
    {
     "name": "stdout",
     "output_type": "stream",
     "text": [
      "<generator object chunks at 0x000001FE16CBD3B8>\n"
     ]
    }
   ],
   "source": [
    "# Visualize the result of the 'chunks' function: the list of 35 is split into two: one with 24 elements and another with 11\n",
    "\n",
    "print(list(chunks(destinations, 24)))"
   ]
  },
  {
   "cell_type": "code",
   "execution_count": 6,
   "metadata": {},
   "outputs": [
    {
     "name": "stdout",
     "output_type": "stream",
     "text": [
      "{'T4X0B6': ['1 min', '29 mins', '33 mins', '31 mins', '32 mins', '30 mins', '33 mins', '38 mins', '35 mins', '35 mins', '28 mins', '30 mins', '30 mins', '34 mins', '24 mins', '26 mins', '24 mins', '21 mins', '18 mins', '15 mins', '22 mins', '20 mins', '34 mins', '16 mins', '13 mins', '40 mins', '46 mins', '19 mins', '25 mins', '21 mins', '39 mins', '42 mins', '35 mins', '50 mins', '21 mins'], 'T5A5C1': ['34 mins', '1 min', '15 mins', '16 mins', '24 mins', '25 mins', '27 mins', '21 mins', '23 mins', '24 mins', '30 mins', '30 mins', '11 mins', '14 mins', '21 mins', '29 mins', '25 mins', '26 mins', '29 mins', '26 mins', '32 mins', '19 mins', '20 mins', '27 mins', '27 mins', '40 mins', '43 mins', '16 mins', '18 mins', '15 mins', '24 mins', '27 mins', '21 mins', '35 mins', '38 mins'], 'T5B0S1': ['37 mins', '14 mins', '1 min', '7 mins', '11 mins', '13 mins', '16 mins', '14 mins', '14 mins', '17 mins', '23 mins', '22 mins', '16 mins', '10 mins', '11 mins', '16 mins', '15 mins', '22 mins', '27 mins', '23 mins', '30 mins', '21 mins', '18 mins', '28 mins', '29 mins', '31 mins', '35 mins', '18 mins', '22 mins', '16 mins', '30 mins', '25 mins', '18 mins', '37 mins', '38 mins'], 'T5E4C6': ['35 mins', '14 mins', '7 mins', '1 min', '12 mins', '13 mins', '15 mins', '9 mins', '11 mins', '13 mins', '20 mins', '19 mins', '13 mins', '7 mins', '14 mins', '19 mins', '18 mins', '27 mins', '33 mins', '26 mins', '30 mins', '20 mins', '15 mins', '29 mins', '32 mins', '28 mins', '32 mins', '18 mins', '19 mins', '16 mins', '28 mins', '22 mins', '15 mins', '30 mins', '42 mins'], 'T5J1V7': ['35 mins', '21 mins', '10 mins', '13 mins', '1 min', '4 mins', '7 mins', '21 mins', '13 mins', '14 mins', '24 mins', '22 mins', '24 mins', '17 mins', '11 mins', '10 mins', '13 mins', '17 mins', '22 mins', '23 mins', '26 mins', '21 mins', '24 mins', '23 mins', '24 mins', '37 mins', '43 mins', '18 mins', '24 mins', '19 mins', '37 mins', '31 mins', '24 mins', '43 mins', '33 mins'], 'T5J3N3': ['36 mins', '23 mins', '12 mins', '13 mins', '6 mins', '1 min', '3 mins', '18 mins', '10 mins', '11 mins', '22 mins', '19 mins', '26 mins', '20 mins', '12 mins', '8 mins', '15 mins', '15 mins', '23 mins', '24 mins', '23 mins', '23 mins', '20 mins', '23 mins', '25 mins', '33 mins', '39 mins', '20 mins', '24 mins', '20 mins', '39 mins', '27 mins', '20 mins', '41 mins', '34 mins'], 'T5K0M8': ['37 mins', '24 mins', '15 mins', '14 mins', '10 mins', '5 mins', '1 min', '16 mins', '7 mins', '8 mins', '20 mins', '15 mins', '27 mins', '20 mins', '14 mins', '9 mins', '17 mins', '17 mins', '22 mins', '26 mins', '22 mins', '24 mins', '18 mins', '25 mins', '26 mins', '30 mins', '36 mins', '21 mins', '25 mins', '21 mins', '40 mins', '25 mins', '18 mins', '39 mins', '35 mins'], 'T5L4Z6': ['42 mins', '20 mins', '14 mins', '9 mins', '21 mins', '19 mins', '19 mins', '1 min', '13 mins', '12 mins', '18 mins', '18 mins', '20 mins', '13 mins', '22 mins', '23 mins', '25 mins', '28 mins', '34 mins', '34 mins', '27 mins', '28 mins', '8 mins', '27 mins', '31 mins', '26 mins', '31 mins', '25 mins', '27 mins', '24 mins', '30 mins', '15 mins', '8 mins', '29 mins', '40 mins'], 'T5M2L7': ['41 mins', '20 mins', '13 mins', '10 mins', '13 mins', '9 mins', '9 mins', '12 mins', '1 min', '5 mins', '20 mins', '13 mins', '23 mins', '17 mins', '18 mins', '14 mins', '21 mins', '19 mins', '25 mins', '30 mins', '23 mins', '28 mins', '14 mins', '27 mins', '30 mins', '27 mins', '32 mins', '24 mins', '27 mins', '22 mins', '36 mins', '21 mins', '14 mins', '35 mins', '39 mins'], 'T5M3L7': ['38 mins', '21 mins', '14 mins', '12 mins', '16 mins', '13 mins', '11 mins', '12 mins', '5 mins', '1 min', '17 mins', '10 mins', '24 mins', '18 mins', '19 mins', '15 mins', '22 mins', '20 mins', '23 mins', '27 mins', '20 mins', '26 mins', '14 mins', '25 mins', '27 mins', '24 mins', '29 mins', '25 mins', '26 mins', '24 mins', '36 mins', '21 mins', '14 mins', '35 mins', '36 mins'], 'T5T1K8': ['30 mins', '29 mins', '23 mins', '21 mins', '26 mins', '23 mins', '25 mins', '20 mins', '21 mins', '17 mins', '1 min', '10 mins', '24 mins', '23 mins', '26 mins', '18 mins', '20 mins', '17 mins', '18 mins', '23 mins', '16 mins', '23 mins', '14 mins', '15 mins', '19 mins', '21 mins', '27 mins', '27 mins', '33 mins', '29 mins', '37 mins', '22 mins', '15 mins', '36 mins', '28 mins'], 'T5T5L5': ['36 mins', '28 mins', '21 mins', '19 mins', '22 mins', '17 mins', '17 mins', '19 mins', '13 mins', '11 mins', '12 mins', '1 min', '25 mins', '25 mins', '25 mins', '19 mins', '21 mins', '18 mins', '21 mins', '26 mins', '19 mins', '24 mins', '14 mins', '21 mins', '26 mins', '20 mins', '26 mins', '29 mins', '34 mins', '31 mins', '37 mins', '23 mins', '16 mins', '37 mins', '35 mins'], 'T5Y0L2': ['34 mins', '11 mins', '15 mins', '16 mins', '24 mins', '25 mins', '28 mins', '21 mins', '24 mins', '25 mins', '25 mins', '25 mins', '1 min', '8 mins', '21 mins', '29 mins', '25 mins', '26 mins', '29 mins', '26 mins', '32 mins', '19 mins', '15 mins', '27 mins', '27 mins', '34 mins', '38 mins', '16 mins', '19 mins', '15 mins', '19 mins', '22 mins', '16 mins', '30 mins', '38 mins'], 'T5Z3J8': ['37 mins', '13 mins', '10 mins', '8 mins', '19 mins', '21 mins', '22 mins', '13 mins', '18 mins', '20 mins', '23 mins', '23 mins', '7 mins', '1 min', '19 mins', '24 mins', '23 mins', '30 mins', '36 mins', '31 mins', '33 mins', '23 mins', '13 mins', '31 mins', '31 mins', '31 mins', '35 mins', '20 mins', '23 mins', '19 mins', '24 mins', '20 mins', '14 mins', '27 mins', '47 mins'], 'T6B0P2': ['28 mins', '19 mins', '11 mins', '14 mins', '12 mins', '12 mins', '15 mins', '22 mins', '18 mins', '19 mins', '26 mins', '26 mins', '21 mins', '18 mins', '1 min', '15 mins', '8 mins', '15 mins', '20 mins', '14 mins', '23 mins', '13 mins', '26 mins', '21 mins', '21 mins', '39 mins', '42 mins', '10 mins', '18 mins', '14 mins', '31 mins', '33 mins', '26 mins', '45 mins', '31 mins'], 'T6E2A3': ['29 mins', '27 mins', '15 mins', '20 mins', '10 mins', '9 mins', '12 mins', '23 mins', '14 mins', '15 mins', '20 mins', '20 mins', '29 mins', '23 mins', '12 mins', '1 min', '10 mins', '10 mins', '16 mins', '19 mins', '19 mins', '17 mins', '24 mins', '16 mins', '18 mins', '32 mins', '39 mins', '17 mins', '23 mins', '19 mins', '38 mins', '31 mins', '24 mins', '45 mins', '27 mins'], 'T6E5A7': ['28 mins', '23 mins', '15 mins', '19 mins', '15 mins', '15 mins', '18 mins', '26 mins', '20 mins', '21 mins', '20 mins', '21 mins', '25 mins', '22 mins', '8 mins', '11 mins', '1 min', '9 mins', '15 mins', '12 mins', '17 mins', '11 mins', '27 mins', '15 mins', '15 mins', '33 mins', '39 mins', '12 mins', '18 mins', '14 mins', '33 mins', '37 mins', '30 mins', '43 mins', '26 mins'], 'T6H5T1': ['24 mins', '33 mins', '24 mins', '27 mins', '18 mins', '16 mins', '19 mins', '28 mins', '19 mins', '18 mins', '16 mins', '16 mins', '29 mins', '32 mins', '18 mins', '11 mins', '11 mins', '1 min', '10 mins', '15 mins', '13 mins', '14 mins', '22 mins', '13 mins', '14 mins', '28 mins', '35 mins', '18 mins', '24 mins', '20 mins', '39 mins', '31 mins', '24 mins', '45 mins', '22 mins'], 'T6J6P9': ['22 mins', '30 mins', '28 mins', '32 mins', '23 mins', '22 mins', '25 mins', '30 mins', '24 mins', '23 mins', '18 mins', '21 mins', '30 mins', '35 mins', '20 mins', '18 mins', '15 mins', '11 mins', '1 min', '14 mins', '8 mins', '18 mins', '25 mins', '6 mins', '11 mins', '30 mins', '37 mins', '19 mins', '26 mins', '21 mins', '40 mins', '33 mins', '26 mins', '47 mins', '20 mins'], 'T6K4B4': ['18 mins', '26 mins', '23 mins', '26 mins', '24 mins', '24 mins', '27 mins', '34 mins', '29 mins', '28 mins', '24 mins', '26 mins', '27 mins', '30 mins', '13 mins', '22 mins', '12 mins', '16 mins', '14 mins', '1 min', '17 mins', '12 mins', '30 mins', '13 mins', '11 mins', '36 mins', '42 mins', '17 mins', '22 mins', '18 mins', '37 mins', '38 mins', '31 mins', '47 mins', '23 mins'], 'T6R0G4': ['27 mins', '34 mins', '31 mins', '30 mins', '28 mins', '24 mins', '25 mins', '30 mins', '22 mins', '20 mins', '18 mins', '19 mins', '35 mins', '33 mins', '23 mins', '19 mins', '17 mins', '15 mins', '8 mins', '18 mins', '1 min', '20 mins', '24 mins', '11 mins', '16 mins', '30 mins', '37 mins', '24 mins', '30 mins', '26 mins', '45 mins', '32 mins', '25 mins', '46 mins', '25 mins'], 'T6T0C2': ['23 mins', '20 mins', '23 mins', '22 mins', '24 mins', '24 mins', '27 mins', '29 mins', '28 mins', '27 mins', '26 mins', '26 mins', '21 mins', '25 mins', '13 mins', '20 mins', '12 mins', '14 mins', '19 mins', '12 mins', '22 mins', '1 min', '26 mins', '17 mins', '17 mins', '38 mins', '45 mins', '10 mins', '16 mins', '12 mins', '31 mins', '33 mins', '27 mins', '41 mins', '28 mins'], 'T6V1J6': ['36 mins', '15 mins', '18 mins', '12 mins', '25 mins', '24 mins', '24 mins', '10 mins', '19 mins', '19 mins', '16 mins', '16 mins', '10 mins', '9 mins', '22 mins', '30 mins', '25 mins', '27 mins', '28 mins', '28 mins', '25 mins', '22 mins', '1 min', '25 mins', '30 mins', '24 mins', '28 mins', '19 mins', '22 mins', '18 mins', '22 mins', '13 mins', '7 mins', '24 mins', '38 mins'], 'T6W1A2': ['19 mins', '27 mins', '28 mins', '29 mins', '23 mins', '22 mins', '25 mins', '28 mins', '27 mins', '26 mins', '16 mins', '19 mins', '27 mins', '31 mins', '23 mins', '20 mins', '16 mins', '13 mins', '6 mins', '13 mins', '10 mins', '18 mins', '23 mins', '1 min', '8 mins', '28 mins', '35 mins', '17 mins', '23 mins', '19 mins', '37 mins', '31 mins', '24 mins', '45 mins', '18 mins'], 'T6X0P2': ['18 mins', '27 mins', '29 mins', '29 mins', '24 mins', '23 mins', '26 mins', '34 mins', '27 mins', '27 mins', '22 mins', '24 mins', '28 mins', '32 mins', '23 mins', '19 mins', '15 mins', '14 mins', '12 mins', '12 mins', '17 mins', '18 mins', '28 mins', '8 mins', '1 min', '34 mins', '41 mins', '17 mins', '23 mins', '19 mins', '37 mins', '36 mins', '29 mins', '50 mins', '18 mins'], 'T7X2K6': ['42 mins', '38 mins', '30 mins', '28 mins', '38 mins', '33 mins', '32 mins', '27 mins', '29 mins', '24 mins', '19 mins', '18 mins', '32 mins', '31 mins', '38 mins', '31 mins', '33 mins', '30 mins', '31 mins', '36 mins', '28 mins', '36 mins', '22 mins', '27 mins', '32 mins', '1 min', '8 mins', '39 mins', '43 mins', '40 mins', '44 mins', '30 mins', '23 mins', '39 mins', '43 mins'], 'T7Z2W7': ['49 mins', '42 mins', '35 mins', '32 mins', '41 mins', '40 mins', '39 mins', '32 mins', '33 mins', '29 mins', '26 mins', '25 mins', '37 mins', '35 mins', '42 mins', '38 mins', '40 mins', '37 mins', '38 mins', '43 mins', '35 mins', '43 mins', '27 mins', '34 mins', '39 mins', '10 mins', '1 min', '46 mins', '47 mins', '45 mins', '49 mins', '35 mins', '28 mins', '44 mins', '48 mins'], 'T8A4N5': ['24 mins', '15 mins', '17 mins', '17 mins', '18 mins', '18 mins', '21 mins', '24 mins', '25 mins', '26 mins', '27 mins', '28 mins', '16 mins', '20 mins', '8 mins', '19 mins', '11 mins', '16 mins', '19 mins', '16 mins', '22 mins', '9 mins', '21 mins', '17 mins', '17 mins', '39 mins', '45 mins', '1 min', '10 mins', '7 mins', '26 mins', '28 mins', '22 mins', '36 mins', '28 mins'], 'T8A5V9': ['28 mins', '17 mins', '19 mins', '19 mins', '24 mins', '24 mins', '27 mins', '26 mins', '27 mins', '28 mins', '34 mins', '34 mins', '18 mins', '22 mins', '17 mins', '28 mins', '20 mins', '23 mins', '25 mins', '22 mins', '28 mins', '16 mins', '24 mins', '23 mins', '23 mins', '43 mins', '47 mins', '11 mins', '1 min', '7 mins', '19 mins', '30 mins', '24 mins', '38 mins', '34 mins'], 'T8H1S8': ['26 mins', '14 mins', '16 mins', '16 mins', '19 mins', '19 mins', '22 mins', '23 mins', '24 mins', '25 mins', '30 mins', '31 mins', '15 mins', '19 mins', '13 mins', '23 mins', '15 mins', '19 mins', '22 mins', '18 mins', '25 mins', '12 mins', '20 mins', '20 mins', '20 mins', '40 mins', '44 mins', '7 mins', '6 mins', '1 min', '24 mins', '27 mins', '21 mins', '35 mins', '30 mins'], 'T8L3W2': ['45 mins', '25 mins', '30 mins', '30 mins', '38 mins', '40 mins', '42 mins', '32 mins', '38 mins', '38 mins', '35 mins', '36 mins', '19 mins', '25 mins', '30 mins', '41 mins', '33 mins', '37 mins', '40 mins', '37 mins', '43 mins', '30 mins', '26 mins', '38 mins', '38 mins', '44 mins', '48 mins', '29 mins', '21 mins', '25 mins', '1 min', '32 mins', '26 mins', '34 mins', '49 mins'], 'T8N3L3': ['45 mins', '27 mins', '26 mins', '24 mins', '33 mins', '30 mins', '29 mins', '17 mins', '23 mins', '22 mins', '21 mins', '21 mins', '22 mins', '20 mins', '33 mins', '33 mins', '37 mins', '38 mins', '33 mins', '38 mins', '31 mins', '33 mins', '12 mins', '30 mins', '35 mins', '29 mins', '32 mins', '30 mins', '32 mins', '29 mins', '33 mins', '1 min', '10 mins', '17 mins', '43 mins'], 'T8N5T8': ['39 mins', '22 mins', '19 mins', '18 mins', '26 mins', '24 mins', '22 mins', '11 mins', '17 mins', '16 mins', '15 mins', '15 mins', '17 mins', '16 mins', '27 mins', '26 mins', '31 mins', '32 mins', '27 mins', '32 mins', '24 mins', '29 mins', '7 mins', '24 mins', '28 mins', '23 mins', '27 mins', '26 mins', '29 mins', '25 mins', '29 mins', '9 mins', '1 min', '23 mins', '37 mins'], 'T8R1R4': ['55 mins', '34 mins', '39 mins', '31 mins', '44 mins', '44 mins', '42 mins', '31 mins', '37 mins', '36 mins', '35 mins', '35 mins', '29 mins', '28 mins', '47 mins', '46 mins', '44 mins', '46 mins', '47 mins', '47 mins', '44 mins', '41 mins', '25 mins', '44 mins', '48 mins', '39 mins', '42 mins', '38 mins', '40 mins', '37 mins', '34 mins', '19 mins', '24 mins', '1 min', '57 mins'], 'T9E6Z7': ['19 mins', '36 mins', '39 mins', '41 mins', '32 mins', '30 mins', '33 mins', '40 mins', '35 mins', '35 mins', '28 mins', '30 mins', '37 mins', '41 mins', '30 mins', '27 mins', '25 mins', '21 mins', '20 mins', '22 mins', '22 mins', '27 mins', '34 mins', '17 mins', '16 mins', '40 mins', '46 mins', '26 mins', '32 mins', '28 mins', '47 mins', '42 mins', '35 mins', '56 mins', '1 min']}\n"
     ]
    }
   ],
   "source": [
    "# Call the function getDistance, which will obtain the results, and print them for visual inspection\n",
    "\n",
    "result = getDistance(origins, destinations, time)\n",
    "\n",
    "print(result)"
   ]
  },
  {
   "cell_type": "code",
   "execution_count": 7,
   "metadata": {
    "lines_to_next_cell": 2
   },
   "outputs": [],
   "source": [
    "# Convert the result to a pandas dataframe for easier manipulation\n",
    "\n",
    "result_pd = pd.DataFrame(result)   \n",
    "\n",
    "# Remove \"mins\" from each entry result and convert the numeric values from strings to numbers\n",
    "\n",
    "for col in result_pd:\n",
    "    result_pd[col] = result_pd[col].str.split(' ').str[0].astype('float') \n",
    "\n",
    "result_pd.index = result_pd.columns"
   ]
  },
  {
   "cell_type": "code",
   "execution_count": 8,
   "metadata": {},
   "outputs": [],
   "source": [
    "# Finally, write the resultant matrix of travel times to a csv file\n",
    "\n",
    "result_pd.to_csv('Matrix_of_travel_times.csv')"
   ]
  },
  {
   "cell_type": "code",
   "execution_count": null,
   "metadata": {},
   "outputs": [],
   "source": []
  }
 ],
 "metadata": {
  "jupytext": {
   "formats": "ipynb,py:percent"
  },
  "kernelspec": {
   "display_name": "Python 3",
   "language": "python",
   "name": "python3"
  },
  "language_info": {
   "codemirror_mode": {
    "name": "ipython",
    "version": 3
   },
   "file_extension": ".py",
   "mimetype": "text/x-python",
   "name": "python",
   "nbconvert_exporter": "python",
   "pygments_lexer": "ipython3",
   "version": "3.6.9"
  },
  "toc": {
   "base_numbering": 1,
   "nav_menu": {},
   "number_sections": true,
   "sideBar": true,
   "skip_h1_title": false,
   "title_cell": "Table of Contents",
   "title_sidebar": "Contents",
   "toc_cell": false,
   "toc_position": {},
   "toc_section_display": true,
   "toc_window_display": false
  }
 },
 "nbformat": 4,
 "nbformat_minor": 4
}
