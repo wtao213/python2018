{
  "cells": [
    {
      "cell_type": "markdown",
      "metadata": {
        "id": "HKmorPdno_n_"
      },
      "source": [
        "# MMA/GMMA 869: Individual Assignment\n",
        "\n",
        "Version 1: Updated September 27, 2021\n",
        "\n",
        "<font color='red'>\\# TODO: fill in the below</font>\n",
        "\n",

      ]
    },
    {
      "cell_type": "markdown",
      "metadata": {
        "id": "emfFtv4aHBI1"
      },
      "source": [
        "# Assignment Instructions\n",
        "\n",
        "This assignment contains four questions. The questions are fully contained in this Google Colab Notebook. \n",
        "\n",
        "You are to make a copy of this Notebook and edit the copy to provide your answers. You are to complete the assignment entirely within Google Colab. Why?\n",
        "\n",
        "- It gives you practice using cloud-based interactive notebook environments (which is a popular workflow)\n",
        "- It is easier for you to manage the environment (e.g., installing packages, etc.)\n",
        "- Google Colab has nice, beefy machines, so you don't have to worry about running out of memory on your local computer.\n",
        "- It will be easier for the TA to help you debug your code if you need help\n",
        "- It will be easier for the TA to mark/run your code\n",
        "\n",
        "Some parts of this assigment require you to write code. Use Python. You may use standard Python libraries, including `scikit-learn`, `pandas`, `numpy`, and scipy`.\n",
        "\n",
        "Some parts of this assignment require text responses. In these cases, type your response in the Notebook cell indicated. Use English. Use proper grammar, spelling, and punctuation. Be professional and clear. Be complete, but not overly-verbose. Feel free to use [Markdown syntax](https://www.markdownguide.org/basic-syntax/) to format your answer (i.e., add bold, italics, lists, tables).\n",
        "\n",
        "## What to Submit to the Course Portal\n",
        "\n",
        "- Export your completed Notebook as a PDF file by clicking File->Print->Save as PDF.\n",
        "- Please do not submit the Notebook file (`.ipynb`) to the course portal. \n",
        "- Please submit the PDF export of the Notebook. \n",
        "   - Please name the PDF file `2022_869_FirstnameLastName.pdf`\n",
        "      - E.g., `2022_869_StephenThomas.pdf`\n",
        "   - Please make sure you have run all the cells so we can see the output!\n",
        "   - Best practice: Before exporting to PDF click Runtime->Restart and run all.\n",
        "\n"
      ]
    },
    {
      "cell_type": "markdown",
      "metadata": {
        "id": "oZFTCX4DqmRO"
      },
      "source": [
        "# Preliminaries: Inspect and Set up environment\n",
        "\n",
        "No action is required on your part in this section. These cells print out helpful information about the environment, just in case."
      ]
    },
    {
      "cell_type": "code",
      "execution_count": 221,
      "metadata": {
        "id": "xj34Jz-Do_oK"
      },
      "outputs": [],
      "source": [
        "import datetime\n",
        "from datetime import date\n",
        "import pandas as pd\n",
        "import numpy as np\n",
        "import matplotlib.pyplot as plt\n",
        "import re\n",
        "import math\n",
        "\n",
        "from sklearn.metrics import silhouette_score, silhouette_samples\n",
        "from sklearn.preprocessing import StandardScaler\n",
        "from sklearn.cluster import KMeans, DBSCAN, AgglomerativeClustering\n",
        "from sklearn.mixture import GaussianMixture\n",
        "from sklearn.metrics import roc_auc_score,confusion_matrix,classification_report\n",
        "import pandas.core.algorithms as algos\n",
        "from sklearn.preprocessing import FunctionTransformer\n",
        "from sklearn.feature_selection import SelectKBest, chi2\n",
        "from sklearn.preprocessing import OneHotEncoder\n",
        "\n",
        "\n",
        "import lightgbm as lgb\n",
        "from sklearn.model_selection import train_test_split\n",
        "from sklearn import metrics\n",
        "\n",
        "# To define the input and output feature\n",
        "from sklearn.model_selection import GridSearchCV\n",
        "\n",
        "\n",
        "from IPython.core.interactiveshell import InteractiveShell\n",
        "InteractiveShell.ast_node_interactivity = \"all\""
      ]
    },
    {
      "cell_type": "code",
      "execution_count": null,
      "metadata": {
        "colab": {
          "base_uri": "https://localhost:8080/"
        },
        "id": "mqQ_XOKyXTS6",
        "outputId": "c08089bc-1f70-474d-d428-cb706af57f55"
      },
      "outputs": [
        {
          "name": "stdout",
          "output_type": "stream",
          "text": [
            "2021-06-08 12:40:41.157837\n"
          ]
        }
      ],
      "source": [
        "print(datetime.datetime.now())"
      ]
    },
    {
      "cell_type": "code",
      "execution_count": null,
      "metadata": {
        "colab": {
          "base_uri": "https://localhost:8080/"
        },
        "id": "LfOMt1lErLhZ",
        "outputId": "32978a1c-80f5-4f47-e308-e1097f9d797a"
      },
      "outputs": [
        {
          "name": "stdout",
          "output_type": "stream",
          "text": [
            "/usr/local/bin/python\n"
          ]
        }
      ],
      "source": [
        "!which python"
      ]
    },
    {
      "cell_type": "code",
      "execution_count": null,
      "metadata": {
        "colab": {
          "base_uri": "https://localhost:8080/"
        },
        "id": "aub2w1-arM5K",
        "outputId": "f00c7a88-117f-4e5d-841d-bdec67a7847d"
      },
      "outputs": [
        {
          "name": "stdout",
          "output_type": "stream",
          "text": [
            "Python 3.7.10\n"
          ]
        }
      ],
      "source": [
        "!python --version"
      ]
    },
    {
      "cell_type": "code",
      "execution_count": null,
      "metadata": {
        "colab": {
          "base_uri": "https://localhost:8080/"
        },
        "id": "E9Y_n_8UrO9i",
        "outputId": "47f43ec0-1929-4cac-bb1f-2f890e792b9b"
      },
      "outputs": [
        {
          "name": "stdout",
          "output_type": "stream",
          "text": [
            "/env/python\n"
          ]
        }
      ],
      "source": [
        "!echo $PYTHONPATH"
      ]
    },
    {
      "cell_type": "code",
      "execution_count": null,
      "metadata": {
        "id": "-qyD7Jl0Gw1E"
      },
      "outputs": [],
      "source": [
        "# TODO: install any packages you need to here. For example:\n",
        "#pip install unidecode"
      ]
    },
    {
      "cell_type": "markdown",
      "metadata": {
        "id": "RLlBjIyS2o54"
      },
      "source": [
        "# Question 1: Uncle Steve's Diamonds"
      ]
    },
    {
      "cell_type": "markdown",
      "metadata": {
        "id": "qj1NSQelo_oN"
      },
      "source": [
        "## Instructions\n",
        "\n",
        "You work at a local jewelry store named *Uncle Steve's Diamonds*. You started as a janitor, but you’ve recently been promoted to senior data analyst! Congratulations.\n",
        "\n",
        "Uncle Steve, the store's owner, needs to better understand the store's customers. In particular, he wants to know what kind of customers shop at the store. He wants to know the main types of *customer personas*. Once he knows these, he will contemplate ways to better market to each persona, better satisfy each persona, better cater to each persona, increase the loyalty of each persona, etc. But first, he must know the personas.\n",
        "\n",
        "You want to help Uncle Steve. Using sneaky magic (and the help of Environics), you've collected four useful features for a subset of the customers: age, income, spending score (i.e., a score based on how much they’ve spent at the store in total), and savings (i.e., how much money they have in their personal bank account). \n",
        "\n",
        "**Your tasks**\n",
        "\n",
        "1. Pick a clustering algorithm (the [`sklearn.cluster`](https://scikit-learn.org/stable/modules/classes.html#module-sklearn.cluster) module has many good choices, including [`KMeans`](https://scikit-learn.org/stable/modules/generated/sklearn.cluster.KMeans.html#sklearn.cluster.KMeans), [`DBSCAN`](https://scikit-learn.org/stable/modules/generated/sklearn.cluster.DBSCAN.html#sklearn.cluster.DBSCAN), and [`AgglomerativeClustering`](https://scikit-learn.org/stable/modules/generated/sklearn.cluster.AgglomerativeClustering.html#sklearn.cluster.AgglomerativeClustering) (aka Hierarchical). (Note that another popular implementation of the hierarchical algorithm can be found in SciPy's [`scipy.cluster.hierarchy.linkage`](https://docs.scipy.org/doc/scipy/reference/generated/scipy.cluster.hierarchy.linkage.html).) Don't spend a lot of time thinking about which algorithm to choose - just pick one. Cluster the customers as best as you can, within reason. That is, try different feature preprocessing steps, hyperparameter values, and/or distance metrics. You don't need to try every single posssible combination, but try a few at least. Measure how good each  model configuration is by calculating an internal validation metric (e.g., [`calinski_harabasz_score`](https://scikit-learn.org/stable/modules/generated/sklearn.metrics.calinski_harabasz_score.html) or [`silhouette_score`](https://scikit-learn.org/stable/modules/generated/sklearn.metrics.silhouette_score.html#sklearn.metrics.silhouette_score)).\n",
        "2. You have some doubts - you're not sure if the algorithm you chose in part 1 is the best algorithm for this dataset/problem. Neither is Uncle Steve. So, choose a different algorithm (any!) and do it all again.\n",
        "3. Which clustering algorithm is \"better\" in this case? Think about charateristics of the algorithm like quality of results, ease of use, speed, interpretability, etc. Choose a winner and justify to Uncle Steve.\n",
        "4. Interpret the clusters of the winning model. That is, describe, in words, a *persona* that accurately depicts each cluster. Use statistics (e.g., cluster means/distributions), examples (e.g., exemplar instances from each cluster), and/or visualizations (e.g., relative importance plots, snakeplots) to get started. Human judgement and creativity will be necessary. This is where it all comes together. Be descripive and *help Uncle Steve understand his customers better*. Please!\n",
        "\n",
        "**Marking**\n",
        "\n",
        "The coding parts (i.e., 1 and 2) will be marked based on:\n",
        "\n",
        "- *Correctness*. Code clearly and fully performs the task specified.\n",
        "- *Reproducibility*. Code is fully reproducible. I.e., you (and I) are able to run this Notebook again and again, from top to bottom, and get the same results each time.\n",
        "- *Style*. Code is organized. All parts commented with clear reasoning and rationale. No old code laying around. Code easy to follow.\n",
        "\n",
        "\n",
        "Parts 3 and 4 will be marked on:\n",
        "\n",
        "- *Quality*. Response is well-justified and convincing. Responses uses facts and data where possible.\n",
        "- *Style*. Response uses proper grammar, spelling, and punctuation. Response is clear and professional. Response is complete, but not overly-verbose. Response follows length guidelines.\n",
        "\n",
        "\n",
        "**Tips**\n",
        "\n",
        "- Since clustering is an unsupervised ML technique, you don't need to split the data into training/validation/test or anything like that. Phew!\n",
        "- On the flip side, since clustering is unsupervised, you will never know the \"true\" clusters, and so you will never know if a given algorithm is \"correct.\" There really is no notion of \"correctness\" - only \"usefullness.\"\n",
        "- Many online clustering tutorials (including some from Uncle Steve) create flashy visualizations of the clusters by plotting the instances on a 2-D graph and coloring each point by the cluster ID. This is really nice and all, but it can only work if your dataset only has exactly two features - no more, no less. This dataset has more than two features, so you cannot use this technique. (But that's OK - you don't need to use this technique.) \n",
        "- Must you use all four features in the clustering? Not necessarily, no. But \"throwing away\" quality data, for no reason, is unlikely to improve a model.\n",
        "- Some people have success applying a dimensionality reduction technique (like [`sklearn.decomposition.PCA`](https://scikit-learn.org/stable/modules/generated/sklearn.decomposition.PCA.html)) to the features before clustering. You may do this if you wish, although it may not be as helpful in this case because there are only four features to begin with.\n",
        "- If you apply a transformation (e.g., [`MinMaxScaler`](https://scikit-learn.org/stable/modules/generated/sklearn.preprocessing.MinMaxScaler.html) or [`StandardScaler`](https://scikit-learn.org/stable/modules/generated/sklearn.preprocessing.StandardScaler.html#sklearn.preprocessing.StandardScaler)) to the features before clustering, you may have difficulty interpretting the means of the clusters (e.g., what is a mean Age of 0.2234??). There are two options to fix this: first, you can always reverse a transformation with the `inverse_transform` method. Second, you can just use the original dataset (i.e., before any prepropoceesing) during the interpreation step.\n",
        "- You cannot change the distance metric for K-Means. (This is for theoretical reasons: K-Means only works/makes sense with Euclidean distance.\n"
      ]
    },
    {
      "cell_type": "markdown",
      "metadata": {
        "id": "Yww0-vtpOw7z"
      },
      "source": [
        "## 1.0: Load data "
      ]
    },
    {
      "cell_type": "code",
      "execution_count": 26,
      "metadata": {
        "colab": {
          "base_uri": "https://localhost:8080/"
        },
        "id": "qVWx2c-DhQYo",
        "outputId": "952618fe-1e32-4cbc-b98a-b72110b42373"
      },
      "outputs": [
        {
          "name": "stdout",
          "output_type": "stream",
          "text": [
            "<class 'pandas.core.frame.DataFrame'>\n",
            "RangeIndex: 505 entries, 0 to 504\n",
            "Data columns (total 4 columns):\n",
            " #   Column         Non-Null Count  Dtype  \n",
            "---  ------         --------------  -----  \n",
            " 0   Age            505 non-null    int64  \n",
            " 1   Income         505 non-null    int64  \n",
            " 2   SpendingScore  505 non-null    float64\n",
            " 3   Savings        505 non-null    float64\n",
            "dtypes: float64(2), int64(2)\n",
            "memory usage: 15.9 KB\n"
          ]
        }
      ],
      "source": [
        "# DO NOT MODIFY THIS CELL\n",
        "df1 = pd.read_csv(\"https://drive.google.com/uc?export=download&id=1thHDCwQK3GijytoSSZNekAsItN_FGHtm\")\n",
        "df1.info()"
      ]
    },
    {
      "cell_type": "code",
      "execution_count": 4,
      "metadata": {},
      "outputs": [
        {
          "data": {
            "text/html": [
              "<div>\n",
              "<style scoped>\n",
              "    .dataframe tbody tr th:only-of-type {\n",
              "        vertical-align: middle;\n",
              "    }\n",
              "\n",
              "    .dataframe tbody tr th {\n",
              "        vertical-align: top;\n",
              "    }\n",
              "\n",
              "    .dataframe thead th {\n",
              "        text-align: right;\n",
              "    }\n",
              "</style>\n",
              "<table border=\"1\" class=\"dataframe\">\n",
              "  <thead>\n",
              "    <tr style=\"text-align: right;\">\n",
              "      <th></th>\n",
              "      <th>Age</th>\n",
              "      <th>Income</th>\n",
              "      <th>SpendingScore</th>\n",
              "      <th>Savings</th>\n",
              "    </tr>\n",
              "  </thead>\n",
              "  <tbody>\n",
              "    <tr>\n",
              "      <th>count</th>\n",
              "      <td>505.000000</td>\n",
              "      <td>505.000000</td>\n",
              "      <td>505.000000</td>\n",
              "      <td>505.000000</td>\n",
              "    </tr>\n",
              "    <tr>\n",
              "      <th>mean</th>\n",
              "      <td>59.019802</td>\n",
              "      <td>75513.291089</td>\n",
              "      <td>0.505083</td>\n",
              "      <td>11862.455867</td>\n",
              "    </tr>\n",
              "    <tr>\n",
              "      <th>std</th>\n",
              "      <td>24.140043</td>\n",
              "      <td>35992.922184</td>\n",
              "      <td>0.259634</td>\n",
              "      <td>4949.229253</td>\n",
              "    </tr>\n",
              "    <tr>\n",
              "      <th>min</th>\n",
              "      <td>17.000000</td>\n",
              "      <td>12000.000000</td>\n",
              "      <td>0.000000</td>\n",
              "      <td>0.000000</td>\n",
              "    </tr>\n",
              "    <tr>\n",
              "      <th>25%</th>\n",
              "      <td>34.000000</td>\n",
              "      <td>34529.000000</td>\n",
              "      <td>0.304792</td>\n",
              "      <td>6828.709702</td>\n",
              "    </tr>\n",
              "    <tr>\n",
              "      <th>50%</th>\n",
              "      <td>59.000000</td>\n",
              "      <td>75078.000000</td>\n",
              "      <td>0.368215</td>\n",
              "      <td>14209.932802</td>\n",
              "    </tr>\n",
              "    <tr>\n",
              "      <th>75%</th>\n",
              "      <td>85.000000</td>\n",
              "      <td>107100.000000</td>\n",
              "      <td>0.768279</td>\n",
              "      <td>16047.268331</td>\n",
              "    </tr>\n",
              "    <tr>\n",
              "      <th>max</th>\n",
              "      <td>97.000000</td>\n",
              "      <td>142000.000000</td>\n",
              "      <td>1.000000</td>\n",
              "      <td>20000.000000</td>\n",
              "    </tr>\n",
              "  </tbody>\n",
              "</table>\n",
              "</div>"
            ],
            "text/plain": [
              "              Age         Income  SpendingScore       Savings\n",
              "count  505.000000     505.000000     505.000000    505.000000\n",
              "mean    59.019802   75513.291089       0.505083  11862.455867\n",
              "std     24.140043   35992.922184       0.259634   4949.229253\n",
              "min     17.000000   12000.000000       0.000000      0.000000\n",
              "25%     34.000000   34529.000000       0.304792   6828.709702\n",
              "50%     59.000000   75078.000000       0.368215  14209.932802\n",
              "75%     85.000000  107100.000000       0.768279  16047.268331\n",
              "max     97.000000  142000.000000       1.000000  20000.000000"
            ]
          },
          "execution_count": 4,
          "metadata": {},
          "output_type": "execute_result"
        }
      ],
      "source": [
        "# data explore\n",
        "df1.describe()"
      ]
    },
    {
      "cell_type": "code",
      "execution_count": 5,
      "metadata": {},
      "outputs": [
        {
          "data": {
            "text/html": [
              "<div>\n",
              "<style scoped>\n",
              "    .dataframe tbody tr th:only-of-type {\n",
              "        vertical-align: middle;\n",
              "    }\n",
              "\n",
              "    .dataframe tbody tr th {\n",
              "        vertical-align: top;\n",
              "    }\n",
              "\n",
              "    .dataframe thead th {\n",
              "        text-align: right;\n",
              "    }\n",
              "</style>\n",
              "<table border=\"1\" class=\"dataframe\">\n",
              "  <thead>\n",
              "    <tr style=\"text-align: right;\">\n",
              "      <th></th>\n",
              "      <th>Age</th>\n",
              "      <th>Income</th>\n",
              "      <th>SpendingScore</th>\n",
              "      <th>Savings</th>\n",
              "    </tr>\n",
              "  </thead>\n",
              "  <tbody>\n",
              "    <tr>\n",
              "      <th>Age</th>\n",
              "      <td>1.000000</td>\n",
              "      <td>-0.828457</td>\n",
              "      <td>-0.329116</td>\n",
              "      <td>0.412337</td>\n",
              "    </tr>\n",
              "    <tr>\n",
              "      <th>Income</th>\n",
              "      <td>-0.828457</td>\n",
              "      <td>1.000000</td>\n",
              "      <td>0.196111</td>\n",
              "      <td>-0.410774</td>\n",
              "    </tr>\n",
              "    <tr>\n",
              "      <th>SpendingScore</th>\n",
              "      <td>-0.329116</td>\n",
              "      <td>0.196111</td>\n",
              "      <td>1.000000</td>\n",
              "      <td>-0.915379</td>\n",
              "    </tr>\n",
              "    <tr>\n",
              "      <th>Savings</th>\n",
              "      <td>0.412337</td>\n",
              "      <td>-0.410774</td>\n",
              "      <td>-0.915379</td>\n",
              "      <td>1.000000</td>\n",
              "    </tr>\n",
              "  </tbody>\n",
              "</table>\n",
              "</div>"
            ],
            "text/plain": [
              "                    Age    Income  SpendingScore   Savings\n",
              "Age            1.000000 -0.828457      -0.329116  0.412337\n",
              "Income        -0.828457  1.000000       0.196111 -0.410774\n",
              "SpendingScore -0.329116  0.196111       1.000000 -0.915379\n",
              "Savings        0.412337 -0.410774      -0.915379  1.000000"
            ]
          },
          "execution_count": 5,
          "metadata": {},
          "output_type": "execute_result"
        }
      ],
      "source": [
        "# correlation among the columns\n",
        "df1.corr()"
      ]
    },
    {
      "cell_type": "code",
      "execution_count": 6,
      "metadata": {},
      "outputs": [
        {
          "data": {
            "image/png": "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",
            "text/plain": [
              "<Figure size 432x288 with 1 Axes>"
            ]
          },
          "metadata": {
            "needs_background": "light"
          },
          "output_type": "display_data"
        }
      ],
      "source": [
        "# visual your data\n",
        "# age\n",
        "plt.hist(df1['Age'], bins=50,color = \"skyblue\",ec='blue',range=(17,97),alpha =0.5)\n",
        "plt.xlim(17,97)\n",
        "plt.title(\"Age Distribution\")\n",
        "plt.xlabel(\"Age\")\n",
        "plt.ylabel(\"Count\")\n",
        "# add in vertial line\n",
        "plt.vlines(x=59,  colors='red', ls=':',ymin=0, ymax=35,lw=2, label='Median =59')\n",
        "plt.legend(loc='upper right')\n",
        "plt.show()"
      ]
    },
    {
      "cell_type": "code",
      "execution_count": 7,
      "metadata": {},
      "outputs": [
        {
          "data": {
            "image/png": "iVBORw0KGgoAAAANSUhEUgAAAYwAAAEWCAYAAAB1xKBvAAAAOXRFWHRTb2Z0d2FyZQBNYXRwbG90bGliIHZlcnNpb24zLjQuMywgaHR0cHM6Ly9tYXRwbG90bGliLm9yZy/MnkTPAAAACXBIWXMAAAsTAAALEwEAmpwYAAAlQUlEQVR4nO3de5wU1Zn/8c8TQAiiCwjB4SYohgAGBpggXlYJG5XgBU1Wg6uJCIKaNWq8YIxrxFx+XjcaNVFhJbKJwbgaBRHjLajRqAg4oKgENCgDCIJXiFxGnt8fdWZoYHqmZujqmp7+vl+vek31qeqqp6pm+pmqc/occ3dERETq8oW0AxARkcKghCEiIrEoYYiISCxKGCIiEosShoiIxKKEISIisShhiDSQmT1qZmfkaFv/amZLMl4vN7Nv5GLbYXuLzWxYrrYnxUkJQxKR6w+8fDMzN7ONZrbBzNab2VNm9p3Mddz9m+4+Lea2etW2jrv/1d17727cYX93m9nPd9p+P3d/Ohfbl+KlhCGS3QB3bwP0Bu4GbjOzq3K9EzNrnuttiiRBCUMSZ2ZjzOw5M7vRzD40s3+Y2Tczlrc3s9+a2aqw/KGMZePNbJmZfWBmM82sc8YyN7Pvm9lSM/vUzH5mZgeY2d/M7BMzu8/M9shY/zgzKzezj8I6/ePE7+7r3P13wLnA5Wa2T9je02Z2VpjvZWbPmNnHZrbOzP4Yyp8Nm1kY7la+Y2bDzKzCzC4zs/eA31aV7bTrr5nZ6+Gc/NbMWmWez53OsYcYJgCnARPD/h4Oy6vv+MyspZndHM73qjDfMiyriu1iM1trZqvN7Mw450maPiUMyZeDgSVAB+B64C4zs7Dsd0BroB/wJeAmADMbDlwDnAKUAO8A9+603WOAwcBQYCIwGTgd6AYcBJwatjUQmAqcDewD3AnMrPqgjGkG0BwYUsOynwGPA+2ArsCtAO5+RFg+wN3buPsfw+t9gfbAfsCELPs7LRzfAcCXgf+qK0B3nwzcA1wf9nd8DatdQXS+SoEB4Xgyt70v8C9AF2Ac8Gsza1fXvqXpU8KQfHnH3ae4++fANKIE0MnMSoBvAue4+4fuvtXdnwnvOQ2Y6u4L3H0zcDlwiJn1yNju9e7+ibsvBl4DHnf3t939Y+BRYGBYbwJwp7u/5O6fh7qHzUQfnLG4+1ZgHdEH/c62En34d3b3Te7+XA3rZNoGXOXum939syzr3ObuK9z9A+AXhOSXA6cBP3X3te7+PnA18N2M5VvD8q3uPhvYQPRYToqcEobky3tVM+7+zzDbhuhO4AN3/7CG93Qmuquoet8GYD3Rf75V1mTMf1bD6zZhfj/g4vA46iMz+yjsuzMxmVkLoCPwQQ2LJwIGzA0tksbWsbn33X1THeusyJh/pz6x1mGH81rDtte7e2XG63+y/TxKEVNlm6RtBdDezNq6+0c7LVtF9EEPgJntSfQ4aWUD9/MLd/9FQwMFRgGVwNydF7j7e8D4EOfhwJNm9qy7L8uyrTjdRHfLmO9OdD4ANhI9wiPsb996brvqvC6uYdsiWekOQ1Ll7quJHh39xszamVkLM6t67j8dONPMSkNdw/8DXnL35Q3Y1RTgHDM72CJ7mtmxZrZXXW8MlfKnAb8GrnP39TWsc7KZdQ0vPyT60N4WXq8B9m9AzP9pZl3NrD1RvUNV/cdCoF84L62ASTu9r679TQf+y8w6mlkH4CfA7xsQnxQZJQxpDL5L9Nz8TWAtcCGAuz8JXAk8AKwmqvwd3ZAduPs8ojuA24g+0JcBY+p420Iz2xDWPQv4obv/JMu6XwNeCuvPBC5w97fDsknAtPAo7JR6hP0Hoor0t4G3gJ+HY/k78FPgSWApsHN9yV1A37C/h2rY7s+BecAi4FVgQdW2RWpjGkBJRETi0B2GiIjEooQhIiKxKGGIiEgsShgiIhJLQXwPo0OHDt6jR4+0wxARKSjz589f5+4dc7W9gkgYPXr0YN68eWmHISJSUMzsnbrXik+PpEREJBYlDBERiUUJQ0REYimIOgwRyb2tW7dSUVHBpk11dZorjV2rVq3o2rUrLVq0SHQ/ShgiRaqiooK99tqLHj16sH0sKyk07s769eupqKigZ8+eie5Lj6REitSmTZvYZ599lCwKnJmxzz775OVOMbGEYWatzGyumS0MA8pcHcrvtmhM5/IwlSYVg4jUTsmiacjXdUzykdRmYLi7bwgjlT1nZo+GZZe6+/0J7ltERHIssTsMj2wIL1uESX2pi0g1M+P000+vfl1ZWUnHjh057rjj6rWdYcOGVX+5d+TIkXz00Ue5DLNGS5YsobS0tHrae++9ufnmmwGYNGkSXbp0qV42e/bs6vddc8019OrVi969e/PYY4/Vua3y8nKGDh1KaWkpZWVlzJ27y4CP+ePuiU1AM6CcaBD560LZ3cASosFbbgJaZnnvBKJBXuZ1797dRVI1c2Y0NSGvv/562iH4nnvu6QMGDPB//vOf7u4+e/ZsHzBggB977LH12s6RRx7pL7/8chIhxlJZWemdOnXy5cuXu7v7VVdd5TfccMMu6y1evNj79+/vmzZt8rffftv3339/r6ysrHVbRx11lM+ePdvd3R955BE/8sgja4yhpusJzPMcfqYnWunt7p+7eynQFRhiZgcBlwNfIRqhrD1wWZb3Tnb3Mncv69gxZ12hiDTM8cdHk+TcyJEjeeSRRwCYPn06p556avWyjRs3MnbsWIYMGcLAgQOZMWMGAJ999hmjR4+mT58+nHTSSXz22WfV7+nRowfr1q0D4MQTT2Tw4MH069ePyZMnV6/Tpk0brrjiCgYMGMDQoUNZs2bNbh3DU089xQEHHMB+++1X63ozZsxg9OjRtGzZkp49e9KrV69d7hh23paZ8cknnwDw8ccf07lz592KdXfkpZWUu38EzAFGuPvqkPw2A78FhuQjBhGpg1k0ZTr++Kjs4Ye3l02eHJVNmLC9bNWqqKwBH2ajR4/m3nvvZdOmTSxatIiDDz64etkvfvELhg8fzty5c5kzZw6XXnopGzdu5Pbbb6d169a88cYbXH311cyfP7/GbU+dOpX58+czb948brnlFtavj4Zj37hxI0OHDmXhwoUcccQRTJkyZZf3zpkzZ4fHRFXToYceusu699577w6JDuC2226jf//+jB07lg8//BCAlStX0q1bt+p1unbtysqVK2vd1s0338yll15Kt27duOSSS7jmmmvqOqWJSbKVVEczaxvmvwgcBbxpZiWhzIATgdeSikEkZyZPjibJuf79+7N8+XKmT5/OyJEjd1j2+OOPc+2111JaWsqwYcPYtGkT7777Ls8++2x13Uf//v3p379/jdu+5ZZbqu8iVqxYwdKlSwHYY489qutJBg8ezPLly3d579e//nXKy8t3mf72t7/tsN6WLVuYOXMmJ598cnXZueeey1tvvUV5eTklJSVcfPHFsc5FTdu6/fbbuemmm1ixYgU33XQT48aNi7WtJCTZSqqEaOD7ZkSJ6T53n2VmfzGzjoAR1W+ck2AMIrlx9tnRz8z/qpsar6FNSuadRZUJE3Y9D5071/z+mE444QQuueQSnn766eq7gCgk54EHHqB379713ubTTz/Nk08+yQsvvEDr1q2rEw5AixYtqpuiNmvWjMrKyl3eP2fOHH74wx/uUt66desdksajjz7KoEGD6NSpU3VZ5vz48eOrk1OXLl1YsWJF9bKKigq6dOlS67amTZvGr371KwBOPvlkzjrrrPqdiBxKLGG4+yJgYA3lw5Pap0hixo9PO4ImbezYsbRt25avfvWrPP3009XlxxxzDLfeeiu33norZsYrr7zCwIEDOeKII/jDH/7A8OHDee2111i0aNEu2/z4449p164drVu35s033+TFF1+sV0xVdxh12bneBWD16tWUlJQA8OCDD3LQQQcBUWL8j//4Dy666CJWrVrF0qVLGTJkSK3b6ty5M8888wzDhg3jL3/5CwceeGC9jiOX1DWISBx6HJWorl27cv755+9SfuWVV3LhhRfSv39/tm3bRs+ePZk1axbnnnsuZ555Jn369KFPnz4MHjx4l/eOGDGCO+64gz59+tC7d2+GDh2a87g3btzIE088wZ133rlD+cSJEykvL8fM6NGjR/Xyfv36ccopp9C3b1+aN2/Or3/9a5o1a1brtqZMmcIFF1xAZWUlrVq12qHyPt/Md+M2Ml/KyspcAyiJ5NYbb7xBnz590g5DcqSm62lm8929LFf7UF9SInGsWhVNIkVMj6RE4qiqmCyAO3KRpChhiMQRKjCbGndXB4RNQL6qFvRISiSOJvhIqlWrVqxfvz5vHzaSDA/jYbRq1SrxfekOQ6RIde3alYqKCt5///20Q5HdVDXiXtKUMESKVIsWLRIfoU2aFj2SEolj8OBoEiliusMQiWPBgrQjEEmdEoZIHPriqIgShkgsehwlojoMERGJRwlDJI5Jk6JJpIip80GROKq+DV0Afy8iVXLd+aDqMETiuOqqtCMQSZ0ShkgcehwlooQhxeWaG7exZn3Nj5U67WNcfomq9USyUcKQorJmvfPt8zfVuOyBW2rpvG3+/OinmtdKEVPCEImjLNQbqtJbilhiCcPMWgHPAi3Dfu5396vMrCdwL7APMB/4rrtvSSoOkZwYNCjtCERSl+QD283AcHcfAJQCI8xsKHAdcJO79wI+BMYlGINIbsyfv/2xlEiRSixheGRDeNkiTA4MB+4P5dOAE5OKQUREcifRJiFm1szMyoG1wBPAW8BH7l4ZVqkAumR57wQzm2dm8zTAi4hI+hJNGO7+ubuXAl2BIcBX6vHeye5e5u5lHTt2TCpEkXg6d44mkSKWl1ZS7v6Rmc0BDgHamlnzcJfRFViZjxhEdsvq1WlHIJK6xO4wzKyjmbUN818EjgLeAOYA/x5WOwOYkVQMIjmzcmU0iRSxJO8wSoBpZtaMKDHd5+6zzOx14F4z+znwCnBXgjGI5IYeR4kklzDcfREwsIbyt4nqM0REpICo4xyROCZMiCaRIqaEIRLHlCnRJFLE1JeUSBx33pl2BCKpU8IQiUOPo0T0SEpEROJRwhCJ4+GHo0mkiOmRlEgcJ5wQ/dR4GA2ikQ6bBiUMkTiOOy7tCApag0c6lEZFCUMkDj2OElEdhoiIxKOEISIisShhiMRhFk0iRUwJQ0REYlGlt0gcak4rojsMERGJRwlDRERiUcIQieP446NJpIipDkMkjlmz0o5AJHVKGDmgfnKKwMyZaUcgkjoljBxQPzlFQI+jRFSHISIi8SSWMMysm5nNMbPXzWyxmV0QyieZ2UozKw/TyKRiEMmZyZOjSaSIJflIqhK42N0XmNlewHwzeyIsu8ndb0xw3yK5dfbZ0U8N1SpFLLGE4e6rgdVh/lMzewPoktT+RBI1fnzaEYikLi+V3mbWAxgIvAQcBpxnZt8D5hHdhXxYw3smABMAunfvno8wa1VbS6hXFzvfznM8kmd6HCWSfMIwszbAA8CF7v6Jmd0O/Azw8PO/gbE7v8/dJwOTAcrKylLvyKe2llAvj2mZ52hERPIv0VZSZtaCKFnc4+5/AnD3Ne7+ubtvA6YAQ5KMQSQnVq2KJpEiltgdhpkZcBfwhrv/MqO8JNRvAJwEvJZUDCI50yVUv6nXWiliST6SOgz4LvCqmZWHsh8Dp5pZKdEjqeXA2QnGIJIbJSVpRyCSuiRbST0H1DRE2eyk9imSGD2OEtE3vUVEJB4lDBERiUUJQySOwYOjSaSIqbdakTgWLEg7ApHUKWGIxDFvXtoRiKROCUMkDj2OElHCEKmysNy58PLPa1ymkRNFlDBEqm3ZRtb+wjaefB1s+AJMmpTfoEQaEf3LJBLDiOd/BldfnXYYIqnSHYZIDH8+7EpGfEP/X0lxU8IQieHP/3oVIyY1SzsMkVTpXyYREYlFCUMkhq7vzYf589MOQyRVeiQlEsMldx8Md6PxMKSoKWGIxLCi0yC6dUk7CpF06ZGUSAz/feZcPZKSoqeEISIisShhiIhILKrDEInhv27qxse3wVXnrdihXH1MSTFRwhCJocPm1bB5176mHrilVUoRieRfYv8amVk3M5tjZq+b2WIzuyCUtzezJ8xsafjZLqkYRHJl1BHv8NKCpWmHIZKqWAnDzA6LU7aTSuBid+8LDAX+08z6Aj8CnnL3A4GnwmuRRm1dq85s2bck7TBEUhX3DuPWmGXV3H21uy8I858CbwBdgFHAtLDaNODEmDGIiEiKaq3DMLNDgEOBjmZ2UcaivYHYPbGZWQ9gIPAS0MndV4dF7wGdsrxnAjABoHv37nF3VVCuuXEba9bv+s1hVaQ2PhMXn0OvSz9n2Q23pR1K6vR7W7zqqvTeA2gT1tsro/wT4N/j7MDM2gAPABe6+ydmVr3M3d3Mauxrwd0nA5MBysrKmmR/DGvWe40D9qgitfEZtfIuuAclDPR7W8xqTRju/gzwjJnd7e7v1HfjZtaCKFnc4+5/CsVrzKzE3VebWQmwtt5Ri+TZdX1/w7fGVKYdhkiq4jarbWlmk4Eeme9x9+HZ3mDRrcRdwBvu/suMRTOBM4Brw88Z9YxZJO9mdh3PoadvTjsMkVTFTRj/B9wB/A/wecz3HAZ8F3jVzMpD2Y+JEsV9ZjYOeAc4JXa0IiKSmrgJo9Ldb6/Pht39OcCyLP63+mxLJG2HrZ1F+8e38sHRI9MORSQ1cRPGw2b2feBBoPq+3N0/SCQqkd2UrSXPq4udbzdge9eXnwRj4K+rNux2bCKFKm7COCP8vDSjzIH9cxuOSG5ka8nz8piWDdrecx2OpU/ptt0NS6SgxUoY7t4z6UBEGrPLBj3EtXer0luKW6yEYWbfq6nc3f83t+GIiEhjFfeR1Ncy5lsRVVovAJQwRESKRNxHUj/IfG1mbYF7kwhIpDF6/vEW0FmV3lLcGjoexkZA9RoiTVS2VmbQ8JZmUvji1mE8TNQqCqJOB/sA9yUVlEhjc9jRW4uq0jtbKzNoeEszKXxx7zBuzJivBN5x94oE4hERkUYqVl/EoRPCN4l6rG0HbEkyKBERaXzijrh3CjAXOJmo76eXzCxW9+YiTcF1C06k7/dOTjsMkVTFfSR1BfA1d18LYGYdgSeB+5MKTKQxOXzdI9FvvEgRi5swvlCVLIL1xB/etaDkug8iaRomlj7IGRduTTuMJmlhuXPh5bt2gq0R/BqfuAnjz2b2GDA9vP4OMDuZkNKV6z6IpGl4/kvHcfzRxdNKKp+2bEMj+BWIusb07kU0BvelZvYt4PCw6AXgnqSDExGRxqOu+72bicbvxt3/5O4XuftFRN2c35xsaCKNxwkVU9j391PTDkMkVXUljE7u/urOhaGsRyIRiTRCl73+fQ6ceH7aYYikqq46jLa1LPtiDuMQadRmdBnHkGFxRycWaZrqShjzzGy8u0/JLDSzs4D5yYUl0rhc3+8Orr1h10rvbC18QK18CkltfWfpOm5XV8K4EHjQzE5je4IoA/YATkowLpGCkK2FD6iVTyGpre8sXcftak0Y7r4GONTMvg4cFIofcfe/JB6ZSCPSYdMq9nhvC1v2LUk7FJHUxB0PYw4wpz4bNrOpwHHAWnc/KJRNAsYD74fVfuzuTfL7HNK0zHh2Pxik8TCkuCX5YO5uYEQN5Te5e2mYlCykIKxrWcLmTvumHYZIqhJLGO7+LPBBUtsXyadRR77L3FeWpR2GSKrSqPo/z8wWmdlUM2uXbSUzm2Bm88xs3vvvv59tNRERyZN8J4zbgQOAUmA18N/ZVnT3ye5e5u5lHTt2zFN4IiKSTV4ThruvcffP3X0bMAUYks/9izTUXS8MofSYw+teUaQJi9tbbU6YWYm7rw4vTwJey+f+RRrqK5++Art0kiNSXBJLGGY2HRgGdDCzCuAqYJiZlQIOLAfOTmr/Irk0duiL/GCSxsOQ4pZYwnD3U2soviup/Ykkacneg9nQX+NhSHHL6yOpYlRbX0MaxW/31Nb/j86tSO4pYSSstr6GNIrf7qmt/59cn9uxy35K9xsrefeSK3K6XZFCoi4YRWIY9/bP2O+X16QdhkiqdIchEsNd+1/JN06sTDsMkVQpYYjEMLXXT/jyJar0luKmR1IiIhJLk73D0Ahakku9P5lPm0Vb2dB/YNqhiKSmySYMjaAluTT1xaEwQuNhSHFrsglDJJfe3GsgXXrUfMcqUiz0XEYkhnGHzKX8sefSDkMkVUoYIiISixKGiIjEojoMkRhmPNOdvQa6hmmVWJpqK00lDJEYOmxeDWvSjkIKRVNtpVmYaU4kz0Yd8Q4vLViadhgiqdIdhkgM61p1Zsu+6hpEipvuMEREJBYlDJEYJi4+h16Xnpd2GCKpKspHUhoFT+pr1Mq74B5YdsNtsd9T2+9ZIbeUySbXf1cNPX/ZWig1xXOeb0WZMDQKntTXdX1/w7fG1G88jNp+zwq5pUw2uf67auj5y9ZCqSme83xLLN2a2VQzW2tmr2WUtTezJ8xsafjZLqn9i+TSzK7jee/0sWmHIZKqJO/P7gZG7FT2I+Apdz8QeCq8FhGRApBYwnD3Z4EPdioeBUwL89OAE5Pav0guHbZ2Fu0fn512GCKpyncdRid3Xx3m3wM65Xn/Ig1yfflJMEbjYUhxS63S293dzLIOMGBmE4AJAN27d89bXCI1ea7DsfQp3ZZ2GLIb1Dpy9+U7YawxsxJ3X21mJcDabCu6+2RgMkBZWZlGrpFUXTboIa69W9/0LmRqHbn78t0oeSZwRpg/A5iR5/2LiEgDJdmsdjrwAtDbzCrMbBxwLXCUmS0FvhFei4hIAUjskZS7n5pl0b8ltU+RpDz/eAvorEpvKW76nryIiMRSlF2DNHbF1gdRITjs6K2q9G5EGkuLp2z9VjXVVldKGI1QsfVBJFJfjaXFU7Z+q5pqqyv9qyoiIrEoYYjEcN2CE+n7vZPTDkMkVXokJRLD4esegSfTjkIkXUoY0qhlq1SE/FYsTix9kDMu3JqnvYk0TkoY0qhlq1SE/FYsPv+l4zj+aLWSkuKmOgwREYlFCUMkhhMqprDv76emHYZIqpQwRGK47PXvc+DE89MOQyRVqsMQiWFGl3EMGVbzN4tFioUShkgM1/e7g2tvUKW3JCtbq8DG0iWQEoaISCORrVVgY+kSKP2UJVIAOmxaxR7vra57RZEmTAlDJIYZz+7HwYMOTDsMkVTpkZRIDOtalrBXWw0tL8VNdxgiMYw68l3mvrIs7TBEUqU7DBGRWjSWwZoaAyUMEZFaNJbBmhoDPZISieGuF4ZQeszhaYchkqpU7jDMbDnwKfA5UOnuZWnEIRLXVz59BV5NOwqRdKX5SOrr7r4uxf2LxDZ26Iv8YJLGw5DipjoMkRiW7D2YDf3VNYgUt7QShgOPm5kDd7r75J1XMLMJwASA7t275zk8kaavsYxmKIUjrYRxuLuvNLMvAU+Y2Zvu/mzmCiGJTAYoKyvTN6YkVWOX/ZTuN1by7iVXpB1KzjSW0QylcKTSSsrdV4afa4EHgSFpxCES17i3f8Z+v7wm7TBEUpX3Owwz2xP4grt/GuaPBn6a7zhE6uOu/a/kGydWph2GSKrSeCTVCXjQzKr2/wd3/3MKcYjENrXXT/jyJar0luKW94Th7m8DA/K9XxER2T1qVisSQ+9P5tNm0VY29B+Yk+1l65+osYysJlITJQyRGKa+OBRGwF9XbcjJ9rL1T9RYRlYTqYkShkgMb+41kC491LpbipvufUViGHfIXMofey7tMERSpYQhIiKxKGGIiEgsBV+Hka0/nKbaF05to38VagubQujTaMYz3dlroCc+TGtDr29t53DZ36HXl3ctbyznVgpHwSeMbP3hNNW+cGob/atQW9gUQp9GHTavhjXJ76eh17e2c/ijMS359vm7fumwsZxbKRyF9++oSApGHfEOLy1YmnYYIqkq+DsMkXxY16ozW/ZV1yBS3HSHISIisShhiMQwcfE59Lr0vLTDEElVQTySem8NWVuOqKXHdg3pn6i21jW5bnVVyC3aRq28C+6BZTfclloMtbWgKoRzKJGGXMfG0jqyIBLG1srsLUfU0mO7hvRPVFvrmly3uirkFm3X9f0N3xqT7ngYtbWgKoRzKJGGXMfG0jqyIBKGSNpmdh3Poaer0luKm+owREQkFiUMkRgOWzuL9o/PTjsMkVTpkZRIDNeXnwRjcjcehkghUsIQieG5DsfSp3Rb2mGI7KK2FlS5poQhEsNlgx7i2rtV6S2NT20tqH51bW73pToMERGJJZWEYWYjzGyJmS0zsx+lEYOIiNRP3hOGmTUDfg18E+gLnGpmffMdh0h9PP94C/61c5u0wxBJVRp3GEOAZe7+trtvAe4FRqUQh4iI1IO519yPUGI7NPt3YIS7nxVefxc42N3P22m9CcCE8LI3sCTHoXQA1uV4m2lpSscCTet4mtKxQNM6nqZ0LFDz8ezn7h1ztYNG20rK3ScDk5PavpnNc/eypLafT03pWKBpHU9TOhZoWsfTlI4F8nM8aTySWgl0y3jdNZSJiEgjlkbCeBk40Mx6mtkewGhgZgpxiIhIPeT9kZS7V5rZecBjQDNgqrsvznccJPi4KwVN6VigaR1PUzoWaFrH05SOBfJwPHmv9BYRkcKkb3qLiEgsShgiIhJLQScMM+tmZnPM7HUzW2xmF4Ty9mb2hJktDT/bhXIzs1tClySLzGxQxrbOCOsvNbMzMsoHm9mr4T23mJklfEzNzOwVM5sVXvc0s5fC/v8YGgpgZi3D62VheY+MbVweypeY2TEZ5XntksXM2prZ/Wb2ppm9YWaHFOq1MbMfht+x18xsupm1KqRrY2ZTzWytmb2WUZb4tci2jwSO5Ybwe7bIzB40s7YZy+p1zhtyXXN9PBnLLjYzN7MO4XW618bdC3YCSoBBYX4v4O9E3Y1cD/wolP8IuC7MjwQeBQwYCrwUytsDb4ef7cJ8u7BsbljXwnu/mfAxXQT8AZgVXt8HjA7zdwDnhvnvA3eE+dHAH8N8X2Ah0BLoCbxF1LigWZjfH9gjrNM34WOZBpwV5vcA2hbitQG6AP8AvphxTcYU0rUBjgAGAa9llCV+LbLtI4FjORpoHuavyziWep/z+l7XJI4nlHcjahz0DtChMVybxD4s0piAGcBRRN8KLwllJcCSMH8ncGrG+kvC8lOBOzPK7wxlJcCbGeU7rJdA/F2Bp4DhwKxwgddl/CEcAjwW5h8DDgnzzcN6BlwOXJ6xzcfC+6rfG8p3WC+BY/kXog9Z26m84K4NUcJYEf4Ym4drc0yhXRugBzt+yCZ+LbLtI9fHstOyk4B7ajqXdZ3zhvzNJXU8wP3AAGA52xNGqtemoB9JZQq3hwOBl4BO7r46LHoP6BTmq/7wq1SEstrKK2ooT8rNwESgaqSefYCP3L2yhv1XxxyWfxzWr+8xJqUn8D7wW4sesf2Pme1JAV4bd18J3Ai8C6wmOtfzKdxrUyUf1yLbPpI0lug/aaj/sTTkby7nzGwUsNLdF+60KNVr0yQShpm1AR4ALnT3TzKXeZQ+G33bYTM7Dljr7vPTjiVHmhPdZt/u7gOBjUS3vdUK6Nq0I+ogsyfQGdgTGJFqUDmWj2uRj32Y2RVAJXBPkvtJkpm1Bn4M/CRf+4x7bQo+YZhZC6JkcY+7/ykUrzGzkrC8BFgbyrN1S1JbedcaypNwGHCCmS0n6sF3OPAroK2ZVX3BMnP/1TGH5f8CrKf+x5iUCqDC3V8Kr+8nSiCFeG2+AfzD3d93963An4iuV6Femyr5uBbZ9pFzZjYGOA44LXwAUkfMNZWvp/7XNdcOIPrnZGH4POgKLDCzfRtwPLm9Nrl4/pbWRPS88X+Bm3cqv4EdK3OuD/PHsmOF0dxQ3p7oeXu7MP0DaB+W7VxhNDIPxzWM7ZXe/8eOFXDfD/P/yY4VcPeF+X7sWMn3NlEFX/Mw35PtlXz9Ej6OvwK9w/ykcF0K7toABwOLgdZhX9OAHxTatWHXOozEr0W2fSRwLCOA14GOO61X73Ne3+uaxPHstGw52+swUr02iX1Y5GMCDie6jVoElIdpJNFzxaeApcCTGSfOiAZvegt4FSjL2NZYYFmYzswoLwNeC++5jRxVctVxXMPYnjD2Dxd8WfhFbhnKW4XXy8Ly/TPef0WIdwkZLYfCufl7WHZFHo6jFJgXrs9D4Re5IK8NcDXwZtjf74g+gArm2gDTiepfthLd/Y3Lx7XIto8EjmUZ0TP88jDd0dBz3pDrmuvj2Wn5crYnjFSvjboGERGRWAq+DkNERPJDCUNERGJRwhARkViUMEREJBYlDBERiUUJQ4qWmW1IOwaRQqKEISIisShhSNEzs2Fm9rRtH7vjnowxA75mZn8zs4VmNtfM9rJoLIzfhjEGXjGzr4d1x5jZQ2FsgeVmdp6ZXRTWedHM2of1DjCzP5vZfDP7q5l9Jc3jF4mred2riBSFgUTdSKwCngcOM7O5wB+B77j7y2a2N/AZcAFRf21fDR/2j5vZl8N2DgrbakX0jdvL3H2gmd0EfI+oR+LJwDnuvtTMDgZ+Q9R3mEijpoQhEpnr7hUAZlZO1LfPx8Bqd38ZwENPyGZ2OHBrKHvTzN4BqhLGHHf/FPjUzD4GHg7lrwL9Q8/KhwL/Z9sHCGyZ7KGJ5IYShkhkc8b85zT8byNzO9syXm8L2/wC0XgLpQ3cvkhqVIchkt0SoMTMvgYQ6i+aE/XCe1oo+zLQPaxbp3CX8g8zOzm838xsQBLBi+SaEoZIFu6+BfgOcKuZLQSeIKqb+A3wBTN7laiOY4y7b86+pV2cBowL21xMNDiTSKOn3mpFRCQW3WGIiEgsShgiIhKLEoaIiMSihCEiIrEoYYiISCxKGCIiEosShoiIxPL/AdX4g+bcChZ7AAAAAElFTkSuQmCC",
            "text/plain": [
              "<Figure size 432x288 with 1 Axes>"
            ]
          },
          "metadata": {
            "needs_background": "light"
          },
          "output_type": "display_data"
        }
      ],
      "source": [
        "# visual your data\n",
        "# Income\n",
        "plt.hist(df1['Income'], bins=50,color = \"skyblue\",ec='blue',range=(12000,142000),alpha =0.5)\n",
        "plt.xlim(12000,142000)\n",
        "plt.title(\"Income Distribution\")\n",
        "plt.xlabel(\"Income\")\n",
        "plt.ylabel(\"Count\")\n",
        "# add in vertial line\n",
        "plt.vlines(x=75078,  colors='red', ls=':',ymin=0, ymax=35,lw=2, label='Median =75078')\n",
        "plt.legend(loc='upper right')\n",
        "plt.show()"
      ]
    },
    {
      "cell_type": "code",
      "execution_count": 8,
      "metadata": {},
      "outputs": [
        {
          "data": {
            "text/plain": [
              "Text(0, 0.5, 'Income')"
            ]
          },
          "execution_count": 8,
          "metadata": {},
          "output_type": "execute_result"
        },
        {
          "data": {
            "image/png": "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",
            "text/plain": [
              "<Figure size 432x288 with 1 Axes>"
            ]
          },
          "metadata": {
            "needs_background": "light"
          },
          "output_type": "display_data"
        }
      ],
      "source": [
        "# scatter age vs income\n",
        "plt.plot(df1['Age'],df1['Income'],  'o', color='lightblue')\n",
        "plt.title(\"Age vs. Income\")\n",
        "plt.xlabel(\"Age\")\n",
        "plt.ylabel(\"Income\")"
      ]
    },
    {
      "cell_type": "markdown",
      "metadata": {
        "id": "R04NzckZKbG2"
      },
      "source": [
        "## 1.1: Clustering Algorithm #1"
      ]
    },
    {
      "cell_type": "code",
      "execution_count": 27,
      "metadata": {
        "id": "Qeavkicwo_oN"
      },
      "outputs": [],
      "source": [
        "# standardize the data\n",
        "scaler = StandardScaler()\n",
        "features = ['Age', 'Income', 'SpendingScore', 'Savings']\n",
        "df1[features] = scaler.fit_transform(df1[features])"
      ]
    },
    {
      "cell_type": "code",
      "execution_count": 12,
      "metadata": {},
      "outputs": [
        {
          "data": {
            "image/png": "iVBORw0KGgoAAAANSUhEUgAAAYsAAAEWCAYAAACXGLsWAAAAOXRFWHRTb2Z0d2FyZQBNYXRwbG90bGliIHZlcnNpb24zLjQuMywgaHR0cHM6Ly9tYXRwbG90bGliLm9yZy/MnkTPAAAACXBIWXMAAAsTAAALEwEAmpwYAAAocUlEQVR4nO3deZhcZZn+8e9d3Z2NkIQsHUkCBEOgQWQNJIiAdEREUFBBRQdQWRwHUMQNZ34zuCKuqKODg4CAIsIADoigIGEbhEDCIksSCAgkIZBoFgLZenl+f5y3kkrTSXdCV5+qrvtzXXX12arOUw2pu897Tp1HEYGZmdmmFPIuwMzMKp/DwszMuuSwMDOzLjkszMysSw4LMzPrksPCzMy65LAwKyNJd0o6JU1/XNL/5V1TT+jJ9yLpHZLm98RrWfk4LKxsJD0n6Z0l8x+RtFTSIZ1sG5IWSaovWdaQllXsl4HSB127pFc7PA7IuzZYF1Yhac8Oy3+Xlr+jG68xPm1b39W21nc5LKxXSDoJ+BlwZETctZHNlgJHlMwfkZZVuhcjYnCHx315F1XiKeDE4oykEcABwOLcKrKq47CwspP0KeAHwOER8ZdNbPorSj7U0vQVHV5rqKRLJC2UtEDSNyXVpXUTJE2T9A9Jf5d0paRhJc99TtIXJP1V0nJJV0sakNaNlHSTpGWSlki6R1I5/n1I0k/T/mdLmlqyYoykG9P+50o6NS0fIGmVpJFp/t8ktUoakua/IelHm9jnlcCHi78n4Hjgd8Dakn0XJJ0j6Zn0+7tG0vC0+u70c1nHoyZJ309Hi3+TdETJ8k7fS1o3UNJl6XlPAvtt9m/Rep3Dwsrt08DXgakRMaOLbf8XOFjSMEnbAAcBN3TY5jKgFdgJ2Bt4F3BKWifg28AYYFdgO+CrHZ7/IeDdwI7AHsDH0/LPA/OBUcBo4F+Bcgx/TQaeAUYC5wLXl3wo/zbVMAY4FjhPUnNErAYeBIrDd4cAzwMHlsxv7GgN4EXgSbLfFXQSwsCZwDHptcaQHdH9LK07OP0c1uGoaTIwJ72X7wKXSNKm3ktady4wIT0OB07aRO1WIRwWVm6HAfcDj3Vj29XA74EPp8eNaRkAkkYD7wHOiojXImIRcAHwEYCImBsRt0XEmohYDPyQ9R+wRT+JiBcjYkna115peQuwLbBDRLRExD3R/RunjUlHJKWPrTay7SLgR2kfV5N92B4paTuyD/8vR8TqiHgEuJj1R1p3AYek8wZ7AD9J8wPI/jK/m027AjhRUhPZh37HYbJ/Bv4tIuZHxBqykD22i/MUz0fELyKiDbic7Pc3uhvv5UPAtyJiSUTMS+/FKpzDwsrt08DOwMXFvzolPVFyIvigDttfQfah0tlfvzsADcDC4ocy8N9AY3rd0ZJ+m4anXgF+TfZXb6mXSqZXAoPT9PeAucCtkp6VdM5mvMcXI2JYh8drG9l2QYcQep7sr+8xwJKIWNFh3dg0fRfwDmAfsuC9jSwIpwBzI+IfXdR4PdAMnEE23NfRDsDvSn6vs4A2sqOsjVn3u4yIlWlycDfeyxhgXod1VuEcFlZuLwNTyYaU/gsgIt5SciL4ng7b30P6CxXoeGnmPGANMLLkQ3lIRLwlrT+PbOjorRExBPgnsqGpLkXEioj4fES8GXgfcHbp+YQeNLZkqAZge7JhoheB4ZK27rBuQZr+C7AL8H7groh4Mq1/D5seggLWfZjfQhbenYXFPOCIDoE3ICIWsPnDcV29l4VkQ4Sl66zCOSys7CLiRbLAeLekC7rYNoD3Au/rOAwUEQuBW4EfSBqSTspO0PpLcbcGXgWWSxoLfLG7NUo6StJO6YN8Odlf1e1p3WWSLuvua3WhEfiMssuCjyM7t3JzGo75C/DtdEJ7D+BksqOj4of9TOB01ofDX8iGj7oMi+RfgUMi4rlO1v0c+JakHQAkjZJ0dFq3mOx38ebu7KSr9wJcA3xF0jaSxpGdL7EK57CwXhERL5ANgxwr6dtdbPtERDyxkdUnAv3ITtguBa4lOxIB+BrZMM1y4A9kQy/dNRH4M1nY3Af8V0TckdZtB9y7ieeO0eu/Z/HBjWw7Pe3r78C3gGNLhpCOB8aT/WX+O+DciPhzyXPvIhuGe6Bkfmu6Pl8BZKEdERv7It2Pyc4R3SppBdl5psnpeStTrfemYaop3djdpt7L18iGnv5GFv6dHelYhZGbH5ltnKR+wKPAHhHRknc9ZnlxWJiZWZc8DGVmZl1yWJiZWZccFmZm1qU+eRfJkSNHxvjx4/Muw8ysqsycOfPvETGqs3V9MizGjx/PjBld3YbIzMxKSdrot+k9DGVmZl1yWJiZWZccFmZm1iWHhZmZdclhYWZmXXJYmJlZlxwWZmbWJYdFiQXLVnH+LbN5afnqrjc2M6shDosSK9e08vO7nmHa7EV5l2JmVlEcFiV2ahzMuG0GMm32y3mXYmZWUcoWFpIulbRI0uMly4ZLuk3S0+nnNmm5JP1E0lxJf5W0T8lzTkrbPy3ppHLVm/ZFc1Mj9879B6tb2sq5KzOzqlLOI4vLgHd3WHYOcHtETARuT/MAR5C1mpwInAZcCFm4AOeStXfcHzi3GDDl0tzUyKqWNu5/9h9db2xmViPKFhYRcTewpMPio4HL0/TlwDEly6+IzP3AMEnbAocDt0XEkohYCtzG6wOoR0158wgGNtT5vIWZWYnePmcxOiIWpumXgNFpeiwwr2S7+WnZxpa/jqTTJM2QNGPx4sVbXOCAhjoO3GkE02Yvwi1nzcwyuZ3gjuyTuMc+jSPiooiYFBGTRo3q9Hbs3dbcNJr5S1cxd9GrPVSdmVl16+2weDkNL5F+Fsd6FgDblWw3Li3b2PKyOrQpCxsPRZmZZXo7LG4Eilc0nQTcULL8xHRV1BRgeRqu+hPwLknbpBPb70rLymrboQPZddsh3O6wMDMDynvp7FXAfcAukuZLOhk4HzhM0tPAO9M8wM3As8Bc4BfAvwBExBLgG8CD6fH1tKzspjY1MvP5pSxf2dIbuzMzq2hla6saEcdvZNXUTrYN4PSNvM6lwKU9WFq3HNrUyE/vmMvdTy/mvXuO6e3dm5lVFH+DeyP22m4Yw7fq5/MWZmY4LDaqriAO2XkUd85ZRFu7L6E1s9rmsNiE5qZGlq5s4ZF5y/IuxcwsVw6LTTh451HUFeQbC5pZzXNYbMLQgQ3su8M2TJu95d8INzPrCxwWXZja1Misha+wcPmqvEsxM8uNw6ILzU2NgL/NbWa1zWHRhWJDpDscFmZWwxwWXZDEVDdEMrMa57DohkNTQ6T73BDJzGqUw6Ibig2RPBRlZrXKYdENWUOkkW6IZGY1y2HRTc1Njcxfuoqn3RDJzGqQw6Kb3BDJzGqZw6Kbig2RHBZmVoscFpvBDZHMrFY5LDbDoU2NtLUHdz3te0WZWW1xWGyGYkMkX0JrZrXGYbEZ6griHW6IZGY1yGGxmQ5d1xBpad6lmJn1GofFZlrfEMlDUWZWOxwWm2nowAYmuSGSmdUYh8UWaE4NkV5c5oZIZlYbHBZboNgQ6Y45Hooys9rgsNgCOzUOZrvhbohkZrXDYbEFJNG8SyP/N/fvbohkZjXBYbGFDm1qZHVLuxsimVlNcFhsITdEMrNa4rDYQsWGSLfPckMkM+v7HBZvQHNTIwuWuSGSmfV9Dos3wA2RzKxW5BIWkj4n6QlJj0u6StIASTtKmi5prqSrJfVL2/ZP83PT+vF51NyZbYcOZLdthzBtlsPCzPq2Xg8LSWOBzwCTImJ3oA74CPAd4IKI2AlYCpycnnIysDQtvyBtVzGamxqZ+YIbIplZ35bXMFQ9MFBSPTAIWAg0A9em9ZcDx6Tpo9M8af1USeq9UjfNDZHMrBb0elhExALg+8ALZCGxHJgJLIuI1rTZfGBsmh4LzEvPbU3bj+j4upJOkzRD0ozFi3vvg9sNkcysFuQxDLUN2dHCjsAYYCvg3W/0dSPiooiYFBGTRo0a9UZfrtvcEMnMakEew1DvBP4WEYsjogW4HjgQGJaGpQDGAQvS9AJgO4C0fihQUV+bdkMkM+vr8giLF4Apkgalcw9TgSeBO4Bj0zYnATek6RvTPGn9tKiwb8G5IZKZ9XV5nLOYTnai+iHgsVTDRcCXgbMlzSU7J3FJesolwIi0/GzgnN6uuSvFhki3+xJaM+uj6rvepOdFxLnAuR0WPwvs38m2q4HjeqOuN6K5qZFv3zKbF5etYsywgXmXY2bWo/wN7h7ihkhm1pc5LHpIsSGSv81tZn2Rw6KHFBsi3fuMGyKZWd/jsOhBbohkZn2Vw6IHFRsieSjKzPoah0UPKjZEmjbbDZHMrG9xWPQwN0Qys77IYdHDipfQ+gt6ZtaXOCx62JuGDmC3bYf4LrRm1qc4LMqg2BBp2cq1eZdiZtYjHBZlsK4h0lNuiGRmfYPDogzcEMnM+hqHRRkUGyLd9dRiN0Qysz7BYVEmbohkZn2Jw6JMig2RfAmtmfUFDosyKTZEcvc8M+sLHBZl1NzUyOyXVvDislV5l2Jm9oY4LMpo6q7Zt7l9dGFm1c5hUUYTRmUNkXwJrZlVO4dFGbkhkpn1FQ6LMmvedXTWEOkZN0Qys+rlsCizyTsOzxoieSjKzKqYw6LM3BDJzPoCh0UvKDZEeuplN0Qys+rksOgFxYZIHooys2rlsOgFbohkZtXOYdFLmpsamfH8EjdEMrOq5LDoJc27NtIeuCGSmVUlh0Uv2XOcGyKZWfVyWPSSYkOkO90QycyqkMOiFzXv2siylS08/IIbIplZdXFY9KKDJmYNkXwJrZlVm1zCQtIwSddKmi1plqQDJA2XdJukp9PPbdK2kvQTSXMl/VXSPnnU3BPcEMnMqlVeRxY/Bv4YEU3AnsAs4Bzg9oiYCNye5gGOACamx2nAhb1fbs+ZumvWEGmBGyKZWRXp9bCQNBQ4GLgEICLWRsQy4Gjg8rTZ5cAxafpo4IrI3A8Mk7Rtrxbdg4rf5vZVUWZWTeq7u6GkI4G3AAOKyyLi61uwzx2BxcAvJe0JzAQ+C4yOiIVpm5eA0Wl6LDCv5Pnz07KFJcuQdBrZkQfbb7/9FpTVO0obIv3TlB3yLsfMrFu6dWQh6efAh4EzAQHHAVv6SVcP7ANcGBF7A6+xfsgJgMhuz7pZ15dGxEURMSkiJo0aNWoLSys/N0Qys2rU3WGot0XEicDSiPgacACw8xbucz4wPyKmp/lrycLj5eLwUvpZHKdZAGxX8vxxaVnVckMkM6s23Q2L4tnYlZLGAC3AFp03iIiXgHmSdkmLpgJPAjcCJ6VlJwE3pOkbgRPTVVFTgOUlw1VVyQ2RzKzadPecxU2ShgHfAx4iGyK6+A3s90zgSkn9gGeBT5AF1zWSTgaeBz6Utr0ZeA8wF1iZtq1qpQ2Rvh6BpLxLMjPbpG6FRUR8I01eJ+kmYEBELN/SnUbEI8CkTlZN7WTbAE7f0n1Vqqm7NvLnWS/z1Muvssubts67HDOzTdpkWEhqjohpkj7QyToi4vrylda3HbrL+oZIDgszq3RdHVkcAkwD3tvJugAcFluo2BBp2uyX+fQ7JuRdjpnZJm0yLCLi3DT59Yj4W+k6STuWraoaMXXXRn52x1yWrVzLsEH98i7HzGyjuns11HWdLLu2JwupRYc2uSGSmVWHrs5ZNJF9a3toh/MWQyj5JrdtmWJDpGmzF3H0XmPzLsfMbKO6OmexC3AUMIwNz1usAE4tU001o9gQadqcRbS1B3UFX0JrZpWpq3MWN6RLZb8cEef1Uk01pXnXRq5/eAEPv7CUSeOH512OmVmnujxnERFtrL8DrPWwYkOk2/1tbjOrYN09wX2vpJ9KOkjSPsVHWSurEcWGSL5luZlVsu7e7mOv9LP0luQBNPdoNTVq6q6NnHfzbBYsW8XYYQPzLsfM7HW6dWQREYd28nBQ9BA3RDKzStfdfhajJV0i6ZY0v1u64Z/1gGJDJN+F1swqVXfPWVwG/AkYk+afAs4qQz01SRJTm0bzFzdEMrMK1d2wGBkR1wDtABHRCvhTrQcd2tTohkhmVrG6GxavSRpBanVabEJUtqpqULEh0u2zX867FDOz1+nu1VBnk3WsmyDpXmAUcGzZqqpBAxrqePvEkdwxezHhhkhmVmG62/zoIUmHkN3+Q8CciGgpa2U1qLmpkduedEMkM6s83T2yANgfGJ+es09qfnRFWaqqUcWGSLfPftlhYWYVpbuXzv4K+D7wdmC/9OisLaq9AcWGSP6+hZlVmu4eWUwCdkv9sK2M3BDJzCpRd6+Gehx4UzkLsYwbIplZJerukcVI4ElJDwBrigsj4n1lqaqGuSGSmVWi7obFV8tZhK1XVxDv2GUU02YvorWtnfq67h78mZmVT3cvnb2r3IXYes1NjVz/0AIenreM/dwQycwqwCb/bJW0QtIrnTxWSHqlt4qsNcWGSL6xoJlVik2GRURsHRFDOnlsHRFDeqvIWjN0YAP7jXdDJDOrHB4Qr1DNTY3MfmkFC5atyrsUMzOHRaUqNkTyUJSZVQKHRYWaMGow2w8f5KEoM6sIDosKJYnmpkbunft3Vq116xAzy5fDooId2tTImtZ27nv273mXYmY1LrewkFQn6WFJN6X5HSVNlzRX0tWS+qXl/dP83LR+fF4197ZiQySftzCzvOV5ZPFZYFbJ/HeACyJiJ2ApcHJafjKwNC2/IG1XEzo2RDIzy0suYSFpHHAkcHGaF9AMXJs2uRw4Jk0fneZJ66eqhtrINTc1smDZKua8vCLvUsyshuV1ZPEj4EtAe5ofASyLiNY0Px8o3kVvLDAPIK1fnrbfgKTTJM2QNGPx4r5zx9ZiQyQPRZlZnno9LCQdBSyKiJk9+boRcVFETIqISaNGjerJl87Vm4YO4C1j3BDJzPKVx5HFgcD7JD0H/JZs+OnHwDBJxRsbjgMWpOkFwHYAaf1Q4B+9WXDempsamfn8Upa+tjbvUsysRvV6WETEVyJiXESMBz4CTIuIjwF3AMemzU4CbkjTN6Z50vpptdaxb+quo2kPuODPT/lEt5nlopK+Z/Fl4GxJc8nOSVySll8CjEjLzwbOyam+3Ow5biifPHBHrrjveb77pzkODDPrdd1tflQWEXEncGeafhbYv5NtVgPH9WphFUYS/37UrqxubePCO59hYEMdn5k6Me+yzKyG5BoW1n2S+ObRu7O6pY0f3vYUAxoKnHbwhLzLMrMa4bCoIoWC+O4H92BNazvn3TybgQ11nHDA+LzLMrMa4LCoMvV1BX704b1Y09LOv9/wBP0b6vjQpO3yLsvM+rhKOsFt3dRQV+CnH92bgyaO5MvX/ZUbHlnQ9ZPMzN4Ah0WVGtBQx0UnTGK/8cM5+5pH+ePjL+Vdkpn1YQ6LKjawXx2Xfnw/3jp2KGde9RB3zvG3vM2sPBwWVW5w/3ou/+T+7Dx6az71q5n85Rn3vjCznuew6AOGDmzgVydPZocRgzjl8hnMfH5J3iWZWR/jsOgjhm/Vj1+fMpnRQwbw8Usf5LH5y/Muycz6EIdFH9K49QCuPGUyQwc1cMKl05m18JW8SzKzPsJh0ceMGTaQ35wyhQH1dZxwyXTmLno175LMrA9wWPRB248YxJWnTgbgYxffz/P/eC3nisys2jks+qgJowbz61Mms6a1nY/+YjovLluVd0lmVsUcFn1Y05uG8KtPTuaVVS189Bf3s+iV1XmXZGZVymHRx7113FAu++R+LFqxho9dPJ1/vLom75LMrAo5LGrAvjsM55KT9uOFJSs54ZIHWL6yJe+SzKzKOCxqxAETRnDRiZOYu+hVTvrlA7y6pjXvksysijgsasghO4/ipx/dm8cWLOeTlz3IqrVteZdkZlXCYVFj3vWWN/GjD+/FjOeWcNqvZrC6xYFhZl1zWNSg9+45hu98cA/uefrvnPGbh1jb2p53SWZW4RwWNeq4SdvxjWN258+zFvG5qx+htc2BYWYb57aqNeyEKTuwpqWNb/5hFv3rC3z/uD0pFJR3WWZWgRwWNe6Ug97MqrVt/OC2p+jfUMd5798dyYFhZhtyWBhnNO/EqpY2/uvOZxjQUOA/jtrNgWFmG3BYGJL44uG7sKqljV/e+xyD+tXxxcOb8i7LzCqIw8KALDD+46jdWNPazs/ueIaBDXWc0Twx77LMrEI4LGwdSXzz6N1ZvbaN79/6FAMa6jjloDfnXZaZVQCHhW2gUBDfPXYP1rS2Z1dJNdRxwpQd8i7LzHLmsLDXqa8rcMGH92JNaxv//r+PM7ChjmP3HZd3WWaWI38pzzrVr77ATz+6DwdNHMmXrn2U3z/6Yt4lmVmOHBa2UQMa6rjohElMGj+cs65+hFufeCnvkswsJw4L26SB/eq49OP78daxQznjNw9z55xFeZdkZjno9bCQtJ2kOyQ9KekJSZ9Ny4dLuk3S0+nnNmm5JP1E0lxJf5W0T2/XXOsG96/n8k/sz06Ng/nUr2Zy3zP/yLskM+tleRxZtAKfj4jdgCnA6ZJ2A84Bbo+IicDtaR7gCGBiepwGXNj7JdvQQQ38+pTJbD98ECdf/iAzn1+ad0lm1ot6PSwiYmFEPJSmVwCzgLHA0cDlabPLgWPS9NHAFZG5HxgmadverdoAhm/VjytPmczoIQP4+KUP8Nj85XmXZGa9JNdzFpLGA3sD04HREbEwrXoJGJ2mxwLzSp42Py3r+FqnSZohacbixYvLV3SNaxwygCtPmcyQgQ2ccOl05ry0Iu+SzKwX5BYWkgYD1wFnRcQrpesiIoDYnNeLiIsiYlJETBo1alQPVmodjRk2kKtOnUL/+gIfu/h+Hp23LO+SzKzMcgkLSQ1kQXFlRFyfFr9cHF5KP4uX3SwAtit5+ri0zHK0/YhBXHnKFOoLBd7/X/dy/i2z3aLVrA/L42ooAZcAsyLihyWrbgROStMnATeULD8xXRU1BVheMlxlOdqpcTB/+tzBHLfvdvz8rmd4z0/uYebzS/Iuy8zKII8jiwOBE4BmSY+kx3uA84HDJD0NvDPNA9wMPAvMBX4B/EsONdtGDB3YwHeO3YNfnbw/a1raOfbn9/G13z/ByrWteZdmZj1I2emBvmXSpEkxY8aMvMuoOa+uaeW7f5zNFfc9z/bDB3H+B9/K2yaMzLssM+smSTMjYlJn6/wNbusxg/vX8/Wjd+fq06ZQEHz0F9P5t989xorVLXmXZmZvkMPCetzkN4/gls8ezKkH7chVD7zA4Rfc7duEmFU5h4WVxcB+dfzbkbtx7affxqD+9Xz8lw/yhf95lOUrfZRhVo0cFlZW+2y/DTed+XZOP3QCv3t4AYddcBe3Pfly3mWZ2WZyWFjZDWio44uHN3HD6QcyfKt+nHrFDD5z1cMseW1t3qWZWTc5LKzX7D52KDee8XbOPmxnbnl8IYf98C5u+uuL9MUr8sz6GoeF9ap+9QU+M3UiN515EOO2GcgZv3mYf/71TBatWJ13aWa2CQ4Ly8Uub9qa6z79Nr5yRBN3zFnMYT+8m+tmzvdRhlmFclhYburrCnzqkAnc8tmDmNg4mM//z6N88rIHWbh8Vd6lmVkHDgvL3YRRg7n6Uwdw7nt34/5nl/CuH97NVQ+84KMMswrisLCKUFcQnzhwR/501sHsPnYoX7n+Mf7pkunMW7Iy79LMDIeFVZjtRwziN6dO5rz3v5VH5y3nXRfczWX3/o32dh9lmOXJYWEVRxIfnbw9t37uYCa/eThf/f2TfPii+3h28at5l2ZWsxwWVrHGDBvILz++Hz84bk/mvLSCI358Dxfd/QxtPsow63UOC6tokvjgvuP489mHcMjOozjv5tl84MK/8NTL7v1t1pscFlYVGocM4L9P2Jf/PH5v5i1ZyZE/uYf/vP1pWtra8y7NrCY4LKxqSOK9e47hts8dzLt335Yf3PYUR//0Xh5fsDzv0sz6PIeFVZ0Rg/vzn8fvzX+fsC+LX13DMT+7lx/cOoc1rW15l2bWZzksrGod/pY38efPHcIxe4/lP6fN5aif/B8Pv7A077LM+iSHhVW1oYMa+P5xe3LZJ/bjtTWtfPDCv3DezbNY3eKjDLOepL54S4VJkybFjBkz8i7DetmK1S2cf8tsrpz+AuNHDOKACSPoX19Hv/oC/eoK9K8vZNP1hfXL69cv719XoH9DgX51dRss32C6roCkvN+qWVlImhkRkzpbV9/bxZiVy9YDGvjW+9/KkXtsy3k3z+LPsxaxtrWdNa1trG1tp6e+nlEMlo6Bsi6EOlnXv75ug8CprxMNda+fbqgX9YVCNt9huqGuQH2hZLquQEOd0mtk0w2FAoWCw8x6nsPC+py3TRjJTWce9LrlrW3trGltZ21rO2vb2tcFSXHZunXF6ba2DZa/bru2Nta0lL7W+ucvW9XCmpa2161b09pGa1vQWsYvFtYXtPEw2khQNRTDJi3bWKAVt6svFGioL9BQ2PA5Gz5//Wt29rob7LMgH7FVOIeF1Yz69AG2Vf+8K4H29qClvZ3WtqClLQuclragta09m28NWtvXT7e0tdPavn66pS177to03ZKe3+m61mxfLW1BS2ta1p5Nr21t57W1WSi2trXT2h6sTdu0pm2Kzy33N+fXhVCHgKkviEIh/ZSoK2SP0um6NF0oiDpBXaFAXYENtyt9bof59dtBnUr2V/raykK4437r67Lp+pJt6gqFdc8rrt9gvjhdKFC3wfz6fRf3USlB6rAwy0GhIPoX6uhfRf8COwZcaTgVp4sh1Vpc1t5OS2sKnnSUVZxe/5x21pYEZelrFUOrLYL29uyIrD3Nt7UH7RHpSK2dNa1BW2R1thUfseH2xUd7lE5Da3s77e2s267SFAT1hQKFQvazrkOYlM4379LI/ztqtx6voYr+VzWzPFVjwG2pdcEUHUKnJIRKw6ctbd/ZdDbf/rpti0G3bvsI2lI4tkda1hYbzm/kNUvXbTtsYFl+JzXwn93MbPMUCqKfLxTYgL9nYWZmXXJYmJlZlxwWZmbWJYeFmZl1qWrCQtK7Jc2RNFfSOXnXY2ZWS6oiLCTVAT8DjgB2A46X1PMXEpuZWaeqIiyA/YG5EfFsRKwFfgscnXNNZmY1o1rCYiwwr2R+flpmZma9oM98KU/SacBpafZVSXPewMuNBP7+xqvqca5r87iuzeO6Nk9frGuHja2olrBYAGxXMj8uLVsnIi4CLuqJnUmasbF7uufJdW0e17V5XNfmqbW6qmUY6kFgoqQdJfUDPgLcmHNNZmY1oyqOLCKiVdIZwJ+AOuDSiHgi57LMzGpGVYQFQETcDNzcS7vrkeGsMnBdm8d1bR7XtXlqqq4+2YPbzMx6VrWcszAzsxw5LMzMrEsOi0TSdpLukPSkpCckfTbvmgAkDZD0gKRHU11fy7umUpLqJD0s6aa8aymS9JykxyQ9ImlG3vUUSRom6VpJsyXNknRABdS0S/o9FR+vSDor77oAJH0u/T//uKSrJA3IuyYASZ9NNT2R9+9K0qWSFkl6vGTZcEm3SXo6/dymJ/blsFivFfh8ROwGTAFOr5D7T60BmiNiT2Av4N2SpuRb0gY+C8zKu4hOHBoRe1XYdfA/Bv4YEU3AnlTA7y0i5qTf017AvsBK4Hf5VgWSxgKfASZFxO5kV0F+JN+qQNLuwKlktyDaEzhK0k45lnQZ8O4Oy84Bbo+IicDtaf4Nc1gkEbEwIh5K0yvI/iHnfkuRyLyaZhvSoyKuSpA0DjgSuDjvWiqdpKHAwcAlABGxNiKW5VrU600FnomI5/MuJKkHBkqqBwYBL+ZcD8CuwPSIWBkRrcBdwAfyKiYi7gaWdFh8NHB5mr4cOKYn9uWw6ISk8cDewPScSwHWDfU8AiwCbouIiqgL+BHwJaA95zo6CuBWSTPTbWAqwY7AYuCXadjuYklb5V1UBx8Brsq7CICIWAB8H3gBWAgsj4hb860KgMeBgySNkDQIeA8b3l2iEoyOiIVp+iVgdE+8qMOiA0mDgeuAsyLilbzrAYiItjRMMA7YPx0K50rSUcCiiJiZdy2deHtE7EN2S/vTJR2cd0FkfyXvA1wYEXsDr9FDwwM9Id0Z4X3A/+RdC0AaZz+aLGTHAFtJ+qd8q4KImAV8B7gV+CPwCNCWZ02bEtl3I3pkJMJhUUJSA1lQXBkR1+ddT0dp2OIOXj9GmYcDgfdJeo7slvHNkn6db0mZ9FcpEbGIbPx9/3wrArI7Jc8vOSq8liw8KsURwEMR8XLehSTvBP4WEYsjogW4HnhbzjUBEBGXRMS+EXEwsBR4Ku+aOnhZ0rYA6eeinnhRh0UiSWTjybMi4od511MkaZSkYWl6IHAYMDvXooCI+EpEjIuI8WTDF9MiIve//CRtJWnr4jTwLrKhg1xFxEvAPEm7pEVTgSdzLKmj46mQIajkBWCKpEHp3+ZUKuCCAABJjenn9mTnK36Tb0WvcyNwUpo+CbihJ160am730QsOBE4AHkvnBwD+Nd1mJE/bApenboEF4JqIqJjLVCvQaOB32ecL9cBvIuKP+Za0zpnAlWnI51ngEznXA6wL1cOAT+VdS1FETJd0LfAQ2ZWKD1M5t9e4TtIIoAU4Pc8LFSRdBbwDGClpPnAucD5wjaSTgeeBD/XIvny7DzMz64qHoczMrEsOCzMz65LDwszMuuSwMDOzLjkszMysSw4Lq2iSQtIPSua/IOmrPfTal0k6tideq4v9HJfuMntHOeuSNF7SRze/ws3ez1clfSFND0h3Nv1qufdr+XJYWKVbA3xA0si8CymVbm7XXScDp0bEoeWqJxkPbFZYbOb76PjcfmR3PJgZEV/d0tex6uCwsErXSvZlrM91XNHxL3BJr6af75B0l6QbJD0r6XxJH1PWF+QxSRNKXuadkmZIeird76p448bvSXpQ0l8lfarkde+RdCOdfPta0vHp9R+X9J207D+AtwOXSPpeJ8/5cnrOo5LO72T9c8WglDRJ0p1p+hCt70HxcPrW+vlkN7l7RFkviG69j/St9z+kGh6X9OFu/HepB64Gno6IirnHlZWPv8Ft1eBnwF8lfXcznrMn2e2kl5B9W/riiNhfWVOrM4Gz0nbjye4dNQG4Q1lvghPJ7nK6n6T+wL2Sinc83QfYPSL+VrozSWPIbjC3L9n9gm6VdExEfF1SM/CFiJjR4TlHkN0sb3JErJQ0fDPe3xfIvj18r7KbX64muzHhFyKiGHqnded9SPog8GJEHJmeN7Qb+/8S2R2Qz9qMmq2K+cjCKl66++8VZM1wuuvB1KNkDfAM2V1CAR4jC4iiayKiPSKeJguVJrL7SZ2YbvsyHRgBTEzbP9AxKJL9gDvTje9agSvJ+ldsyjuBX0bEyvQ+O/Yl2JR7gR9K+gwwLO2zo+6+j8eAwyR9R9JBEbG8G/v/P+BtknbejJqtijksrFr8iGzsv7QHRCvp/2FJBaBfybo1JdPtJfPtbHhE3fF+NwEIOLPYQS4idizppfDaG3kTW2DdewTWtRWNiPOBU4CBZEcMTZ08t1vvIyKeIjvSeAz4Zho668rdZEdntyjd4dT6NoeFVYX0V/c1ZIFR9BzZsA9kvRgatuClj5NUSOcx3gzMAf4EfFrZLeuRtLO6blT0AHCIpJHppo/Hk3VR25TbgE8oa6LDRoahnmP9e/xgcaGkCRHxWER8B3iQ7IhoBbB1yXO79T7SENrKiPg18D3SrdMlfVvS+zdWfERcR9ag6I9Kd0a2vsvnLKya/AA4o2T+F8ANkh4la0SzJX/1v0D2QT8E+OeIWC3pYrKhqockiazD3TGbepGIWCjpHLJ+IwL+EBGbvDV0RPxR0l7ADElrgZuBf+2w2dfITo5/A7izZPlZkg4lO1J6ArglTbel38dlZD2/u/M+3gp8T1I72Z1UP12y/MYu3sOFkkYDN0p6V0Ss3tT2Vr1811kz65SkP0XE4XnXYZXBYWFmZl3yOQszM+uSw8LMzLrksDAzsy45LMzMrEsOCzMz65LDwszMuvT/AUyq/8egW0MRAAAAAElFTkSuQmCC",
            "text/plain": [
              "<Figure size 432x288 with 1 Axes>"
            ]
          },
          "metadata": {
            "needs_background": "light"
          },
          "output_type": "display_data"
        },
        {
          "data": {
            "image/png": "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",
            "text/plain": [
              "<Figure size 432x288 with 1 Axes>"
            ]
          },
          "metadata": {
            "needs_background": "light"
          },
          "output_type": "display_data"
        }
      ],
      "source": [
        "# method 1: Kmeans\n",
        "# try to find the best k\n",
        "inertias = {}\n",
        "silhouettes = {}\n",
        "for k in range(2, 11):\n",
        "    kmeans = KMeans(n_clusters=k, random_state=42).fit(df1)\n",
        "    inertias[k] = kmeans.inertia_ # Inertia: Sum of distances of samples to their closest cluster center\n",
        "    silhouettes[k] = silhouette_score(df1, kmeans.labels_, metric='euclidean')\n",
        "    \n",
        "\n",
        "plt.figure();\n",
        "plt.plot(list(inertias.keys()), list(inertias.values()));\n",
        "plt.title('K-Means, Elbow Method')\n",
        "plt.xlabel(\"Number of clusters, K\");\n",
        "plt.ylabel(\"Inertia\");\n",
        "\n",
        "\n",
        "plt.figure();\n",
        "plt.plot(list(silhouettes.keys()), list(silhouettes.values()));\n",
        "plt.title('K-Means, Elbow Method')\n",
        "plt.xlabel(\"Number of clusters, K\");\n",
        "plt.ylabel(\"Silhouette\");"
      ]
    },
    {
      "cell_type": "code",
      "execution_count": 13,
      "metadata": {},
      "outputs": [
        {
          "data": {
            "text/plain": [
              "KMeans(n_clusters=5, random_state=42)"
            ]
          },
          "execution_count": 13,
          "metadata": {},
          "output_type": "execute_result"
        }
      ],
      "source": [
        "# from silhouettes score, when k=5 we get the best score. using n_cluster =5\n",
        "k_means = KMeans(n_clusters=5, random_state=42)\n",
        "k_means.fit(df1)"
      ]
    },
    {
      "cell_type": "markdown",
      "metadata": {
        "id": "ihVtYBWg1NM6"
      },
      "source": [
        "## 1.2: Clustering Algorithm #2"
      ]
    },
    {
      "cell_type": "code",
      "execution_count": 14,
      "metadata": {
        "id": "Pu2xugQj1Mci"
      },
      "outputs": [
        {
          "data": {
            "image/png": "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",
            "text/plain": [
              "<Figure size 432x288 with 1 Axes>"
            ]
          },
          "metadata": {
            "needs_background": "light"
          },
          "output_type": "display_data"
        }
      ],
      "source": [
        "# Method 2: DBScan\n",
        "# elbow method to find optimal eps and min_samples\n",
        "silhouettes = {}\n",
        "\n",
        "epss = np.arange(0.1, 0.9, 0.1)\n",
        "minss = [3, 4, 5, 6, 7, 8, 9, 10]\n",
        "\n",
        "ss = np.zeros((len(epss), len(minss)))\n",
        "\n",
        "for i, eps in enumerate(epss):\n",
        "    for j, mins in enumerate(minss):\n",
        "        db = DBSCAN(eps=eps, min_samples=mins).fit(df1)\n",
        "        if len(set(db.labels_)) == 1:\n",
        "            ss[i, j] = -1\n",
        "        else:\n",
        "            ss[i, j] = silhouette_score(df1, db.labels_, metric='euclidean')\n",
        "    \n",
        "\n",
        "plt.figure();\n",
        "#plt.plot(list(silhouettes.keys()), list(silhouettes.values()));\n",
        "for i in range(len(minss)):\n",
        "    plt.plot(epss, ss[:, i], label=\"MinPts = {}\".format(minss[i]));\n",
        "#plt.plot(epss, ss[:, 1]);\n",
        "plt.title('DBSCAN, Elbow Method')\n",
        "plt.xlabel(\"Eps\");\n",
        "plt.ylabel(\"Silhouette\");\n",
        "plt.legend();\n",
        "#plt.savefig('out/simple_dbscan_elbow');"
      ]
    },
    {
      "cell_type": "code",
      "execution_count": null,
      "metadata": {},
      "outputs": [],
      "source": [
        "# from the plot above, when  MinPts = 5 and Eps =0.3 we get the best silhouettes\n",
        "db = DBSCAN(eps=0.3, min_samples=5)\n",
        "db.fit(df1)\n",
        "\n",
        "db.labels_"
      ]
    },
    {
      "cell_type": "markdown",
      "metadata": {
        "id": "6ySJIgNr1Sfy"
      },
      "source": [
        "## 1.3 Model Comparison"
      ]
    },
    {
      "cell_type": "code",
      "execution_count": 33,
      "metadata": {},
      "outputs": [],
      "source": [
        "# results for k means\n",
        "df1['km_cluster']= k_means.labels_\n",
        "\n",
        "df1['dbscan_cluster']= db.labels_"
      ]
    },
    {
      "cell_type": "code",
      "execution_count": 18,
      "metadata": {},
      "outputs": [
        {
          "data": {
            "text/plain": [
              "1    157\n",
              "2    147\n",
              "0    126\n",
              "3     50\n",
              "4     25\n",
              "Name: km_cluster, dtype: int64"
            ]
          },
          "execution_count": 18,
          "metadata": {},
          "output_type": "execute_result"
        },
        {
          "data": {
            "text/plain": [
              " 0    157\n",
              " 1    142\n",
              " 4    124\n",
              " 2     46\n",
              " 3     22\n",
              "-1     14\n",
              "Name: dbscan_cluster, dtype: int64"
            ]
          },
          "execution_count": 18,
          "metadata": {},
          "output_type": "execute_result"
        }
      ],
      "source": [
        "#quickly check the cluster distribution\n",
        "df1['km_cluster'].value_counts(dropna=False)\n",
        "\n",
        "df1['dbscan_cluster'].value_counts(dropna=False)"
      ]
    },
    {
      "cell_type": "markdown",
      "metadata": {
        "id": "gwQembOT1L6U"
      },
      "source": [
        "After compare the results from two methods, we find both methods(the one with best silhousette score) group the customers into 5 major groups. But when we use DBscan, there are 14 customers clasified as noise. there is no obvious difference when we compare from cluster numbers, size in each cluster, calculate speed. \n",
        "\n",
        "I prefer to use K-Means clustering, since I want to give everyone a group rather than have a noisy cluster in DBscan, and the noisy cluster is very small. In K-means I will have two relative small clusters(3 and 4), but there are three small clusters in DBScan(2,3,and -1)."
      ]
    },
    {
      "cell_type": "markdown",
      "metadata": {
        "id": "MP2EAnCJ1Xta"
      },
      "source": [
        "## 1.4 Personas"
      ]
    },
    {
      "cell_type": "code",
      "execution_count": 29,
      "metadata": {},
      "outputs": [],
      "source": [
        "# transfer back the original result\n",
        "df1[features] = scaler.inverse_transform(df1[features])"
      ]
    },
    {
      "cell_type": "code",
      "execution_count": 37,
      "metadata": {},
      "outputs": [
        {
          "data": {
            "text/html": [
              "<div>\n",
              "<style scoped>\n",
              "    .dataframe tbody tr th:only-of-type {\n",
              "        vertical-align: middle;\n",
              "    }\n",
              "\n",
              "    .dataframe tbody tr th {\n",
              "        vertical-align: top;\n",
              "    }\n",
              "\n",
              "    .dataframe thead th {\n",
              "        text-align: right;\n",
              "    }\n",
              "</style>\n",
              "<table border=\"1\" class=\"dataframe\">\n",
              "  <thead>\n",
              "    <tr style=\"text-align: right;\">\n",
              "      <th></th>\n",
              "      <th>km_cluster</th>\n",
              "      <th>Age_mean</th>\n",
              "      <th>Income_mean</th>\n",
              "      <th>SpendingScore_mean</th>\n",
              "      <th>Savings_mean</th>\n",
              "    </tr>\n",
              "  </thead>\n",
              "  <tbody>\n",
              "    <tr>\n",
              "      <th>0</th>\n",
              "      <td>0</td>\n",
              "      <td>32.777778</td>\n",
              "      <td>105265.809524</td>\n",
              "      <td>0.309926</td>\n",
              "      <td>14962.778066</td>\n",
              "    </tr>\n",
              "    <tr>\n",
              "      <th>1</th>\n",
              "      <td>1</td>\n",
              "      <td>59.955414</td>\n",
              "      <td>72448.063694</td>\n",
              "      <td>0.771518</td>\n",
              "      <td>6889.972190</td>\n",
              "    </tr>\n",
              "    <tr>\n",
              "      <th>2</th>\n",
              "      <td>2</td>\n",
              "      <td>87.775510</td>\n",
              "      <td>27866.102041</td>\n",
              "      <td>0.328800</td>\n",
              "      <td>16659.261445</td>\n",
              "    </tr>\n",
              "    <tr>\n",
              "      <th>3</th>\n",
              "      <td>3</td>\n",
              "      <td>24.180000</td>\n",
              "      <td>128029.120000</td>\n",
              "      <td>0.896892</td>\n",
              "      <td>4087.520309</td>\n",
              "    </tr>\n",
              "    <tr>\n",
              "      <th>4</th>\n",
              "      <td>4</td>\n",
              "      <td>86.000000</td>\n",
              "      <td>119944.040000</td>\n",
              "      <td>0.068378</td>\n",
              "      <td>14808.683793</td>\n",
              "    </tr>\n",
              "  </tbody>\n",
              "</table>\n",
              "</div>"
            ],
            "text/plain": [
              "   km_cluster   Age_mean    Income_mean  SpendingScore_mean  Savings_mean\n",
              "0           0  32.777778  105265.809524            0.309926  14962.778066\n",
              "1           1  59.955414   72448.063694            0.771518   6889.972190\n",
              "2           2  87.775510   27866.102041            0.328800  16659.261445\n",
              "3           3  24.180000  128029.120000            0.896892   4087.520309\n",
              "4           4  86.000000  119944.040000            0.068378  14808.683793"
            ]
          },
          "execution_count": 37,
          "metadata": {},
          "output_type": "execute_result"
        }
      ],
      "source": [
        "\n",
        "# aggregate the groups\n",
        "result = df1.groupby(['km_cluster'],as_index=False).agg(\n",
        "    Age_mean = pd.NamedAgg(column='Age', aggfunc= 'mean'),\n",
        "    Income_mean = pd.NamedAgg(column='Income', aggfunc= 'mean'),\n",
        "    SpendingScore_mean = ('SpendingScore',  'mean'),\n",
        "    Savings_mean = ('Savings',  'mean')\n",
        ")\n",
        "\n",
        "result"
      ]
    },
    {
      "cell_type": "code",
      "execution_count": 47,
      "metadata": {},
      "outputs": [
        {
          "data": {
            "image/png": "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",
            "text/plain": [
              "<Figure size 432x288 with 1 Axes>"
            ]
          },
          "metadata": {
            "needs_background": "light"
          },
          "output_type": "display_data"
        }
      ],
      "source": [
        "# visual group\n",
        "plt.figure();\n",
        "\n",
        "plt.scatter(df1.iloc[:, 0], df1.iloc[:, 1], c=df1['km_cluster']);\n",
        "plt.title(\"Age vs Income\");\n",
        "plt.xlabel('Age');\n",
        "plt.ylabel('Annual Income (K)');\n"
      ]
    },
    {
      "cell_type": "code",
      "execution_count": 43,
      "metadata": {},
      "outputs": [
        {
          "data": {
            "image/png": "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",
            "text/plain": [
              "<Figure size 432x288 with 1 Axes>"
            ]
          },
          "metadata": {
            "needs_background": "light"
          },
          "output_type": "display_data"
        }
      ],
      "source": [
        "plt.scatter(df1.iloc[:, 2], df1.iloc[:, 3], c=df1['km_cluster']);\n",
        "plt.title(\"SpendingScore vs Savings\");\n",
        "plt.xlabel('SpendingScore');\n",
        "plt.ylabel('Savings');"
      ]
    },
    {
      "cell_type": "markdown",
      "metadata": {
        "id": "dVewu2TZ1XhK"
      },
      "source": [
        " Persona:\n",
        " \n",
        " cluster 0: young customers, earning a lot, with low spending score and have many savings.\n",
        "\n",
        " cluster 1: middle age customers, with good income, high spending score and have few savings.\n",
        "\n",
        " cluster 2: senior customers, little income, low spending score and have many savings.\n",
        "\n",
        " cluster 3: young customers, earning a lot, with very high spending score and have little savings.\n",
        "\n",
        " cluster 4: senior customers, earning a lot,  low spending score and have many savings."
      ]
    },
    {
      "cell_type": "markdown",
      "metadata": {
        "id": "DYwuYIgczYSv"
      },
      "source": [
        "# Question 2: Uncle Steve's Fine Foods"
      ]
    },
    {
      "cell_type": "markdown",
      "metadata": {
        "id": "4oCr-mTfNG-H"
      },
      "source": [
        "## Instructions\n",
        "\n",
        "Uncle Steve runs a small, local grocery store in Ontario. The store sells all the normal food staples (e.g., bread, milk, cheese, eggs, more cheese, fruits, vegatables, meat, fish, waffles, ice cream, pasta, cereals, drinks), personal care products (e.g., toothpaste, shampoo, hair goo), medicine, and cakes. There's even a little section with flowers and greeting cards! Normal people shop here, and buy normal things in the normal way.\n",
        "\n",
        "Business is OK but Uncle Steve wants more. He's thus on the hunt for customer insights. Given your success at the jewelry store, he has asked you to help him out. \n",
        "\n",
        "He has given you a few years' worth of customer transactions, i.e., sets of items that customers have purchased. You have applied an association rules learning algorithm (like Apriori) to the data, and the algorithm has generated a large set of association rules of the form `{X} -> {Y}`, where `{X}` and `{Y}` are item-sets.\n",
        "\n",
        "Now comes a thought experiment. For each of the following scenarios, state what one of the discovered association rules might be that would meet the stated condition. (Just make up the rule, using your human experience and intuition.) Also, describe whether and why each rule would be considered interesting or uninteresting for Uncle Steve (i.e., is this insight new to him? Would he be able to use it somehow?).\n",
        "\n",
        "Keep each answer to 600 characters or less (including spaces).\n",
        "\n",
        "To get those brain juices going, an example condition and answer is provided below:\n",
        "\n",
        "> Condition: A rule that has high support.\n",
        "\n",
        "> Answer: The rule `{milk} -> {bread}` would have high support, since milk and bread are household staples and a high percentage of transactions would include both `{milk}` and `{bread}`. Uncle Steve would likely not find this rule interesting, because these items are so common, he would have surely already noticed that so many transactions contain them.\n",
        "\n",
        "**Marking**\n",
        "\n",
        "Your responses will be marked as follows:\n",
        "\n",
        "- *Correctness*. Rule meets the specificed condition, and seems plausible in an Ontario grocery store.\n",
        "- *Justification of interestness*. Response clearly describes whether and why the rule would be considered interesting to Uncle Steve.\n",
        "\n",
        "**Tips**\n",
        "\n",
        "- There is no actual data for this question. This question is just a thought exercise. You need to use your intuition, creatitivty, and understanding of the real world. I assume you are familiar with what happens inside of normal grocery stores. We are not using actual data and you do not need to create/generate/find any data. I repeat: there is no data for this question.\n",
        "- The reason this question is having you do a thought experiment, rather than writing and running code to find actual association rules on an actual dataset, is because writing code to find association rules is actually pretty easy. But using your brain to come up with rules that meet certain criteria, on the other hand, is a true test of whether you understand how the algorithm works, what support and confidence mean, and the applicability of rules. The question uses the grocery store context because most, if not all, students should be familiar from personal experience.\n",
        "\n"
      ]
    },
    {
      "cell_type": "markdown",
      "metadata": {
        "id": "3YQsOb6CzYVq"
      },
      "source": [
        "## 2.1: A rule that might have high support and high confidence. "
      ]
    },
    {
      "cell_type": "markdown",
      "metadata": {
        "id": "DzXu1IvK-MEg"
      },
      "source": [
        "High support means the item sets {X} and {Y} are always shows up in custoemr grocery transactions, high confidence they likely occur together.\n",
        "\n",
        "In this rule, {X} and {Y} will be essential item with high freqency puchases like {milk} -> {bread}, you probabily need to stock them every week. This rule might not interesting, as it's so common, Uncle Steve could know it from common sense, no asscoiation rule needed as no extra business value."
      ]
    },
    {
      "cell_type": "markdown",
      "metadata": {
        "id": "VNIrAgJk-L4l"
      },
      "source": [
        "## 2.2: A rule that might have reasonably high support but low confidence."
      ]
    },
    {
      "cell_type": "markdown",
      "metadata": {
        "id": "svdzYW3S-LvF"
      },
      "source": [
        "The rule have reasonably high support, means the item set occur often in grocery transactions. But low confidence, means item {X} appears more often in transactions, but {Y} not often appears at the same transaction.\n",
        "\n",
        "I feel this is items often buy but not relative to each other. One example I can think is {Fruit} -> {Fish}. Customer probably needs to buy fruit every single week, but they might buy fish once a month, and these two items doesn't relative to each other. This one might not interesting to Uncle Steve, other than both of them have relative high purchase freqency, they are irrelevant items, no extra business come when you combine them. You might want to think item strategy individually instead."
      ]
    },
    {
      "cell_type": "markdown",
      "metadata": {
        "id": "loe--LMz-Ll8"
      },
      "source": [
        "## 2.3: A rule that might have low support and low confidence."
      ]
    },
    {
      "cell_type": "markdown",
      "metadata": {
        "id": "HdyOB5fe-Zgy"
      },
      "source": [
        "The rule has low support means they don't often occur in transactions, low confidence means when X appear, Y unlikely to appear at the same transactions.\n",
        "\n",
        "This rule shows {X} and {Y} are not frequently purchased, and {X} {Y} are not likely buy together. An example I can think of is {Plastic box} -> {Pet toys}. They are not items with high purchase freqency,and they are not related to each other. This rule is not interesting at all, cause item sets are not frequently purchased and not relevant to each other."
      ]
    },
    {
      "cell_type": "markdown",
      "metadata": {
        "id": "St2eI3We-ZYs"
      },
      "source": [
        "## 2.4: A rule that might have low support and high confidence."
      ]
    },
    {
      "cell_type": "markdown",
      "metadata": {
        "id": "LcdZc-B1-fE7"
      },
      "source": [
        "The rule has low support means the items don't occur often. High confidence means if {X} appears, {Y} is likely to happen at the same transaction.\n",
        "\n",
        "This rule means the items {X} and {Y} not purchased frequently, but when purchase, {X} and {Y} are likely to happen at the same time. An example might be {Yeast} -> {flour}. This one is interesting, eventhough items are not frequently purchased, but if occur, always occur at the same time. These kind of rules are easily ignored/missed by grocery store manager. Using them properly could help increase the business."
      ]
    },
    {
      "cell_type": "markdown",
      "metadata": {
        "id": "B_IHoz7f2yIV"
      },
      "source": [
        "# Question 3: Uncle Steve's Credit Union"
      ]
    },
    {
      "cell_type": "markdown",
      "metadata": {
        "id": "WhERdkp_zYBY"
      },
      "source": [
        "## Instructions\n",
        "\n",
        "Uncle Steve has recently opened a new credit union in Kingston, named *Uncle Steve's Credit Union*. He plans to disrupt the local market by instaneously providing credit to customers.\n",
        "\n",
        "The first step in Uncle Steve's master plan is to create a model to predict whether an application has *good risk* or *bad risk*. He has outsourced the creation of this model to you.\n",
        "\n",
        "You are to create a classification model to predict whether a loan applicant has good risk or bad risk. You will use data  that Uncle Steve bought from another credit union (somewhere in Europe, he thinks?) that has around 6000 instances and a number of demographics features (e.g., `Sex`, `DateOfBirth`, `Married`), loan details (e.g., `Amount`, `Purpose`), credit history (e.g., number of loans), as well as an indicator (called `BadCredit` in the dataset) as to whether that person was a bad risk.\n",
        "\n",
        "\n",
        "**Your tasks**\n",
        "\n",
        "To examine the effects of the various ML stages, you are to create the model several times, each time adding more sophistication, and measuring how much the model improved (or not). In particular, you will:\n",
        "\n",
        "0. Split the data in training and testing. Don't touch the testing data again, for any reason, until step 5. We are pretending that the testing data is \"future, unseen data that our model won't see until production.\" I'm serious, don't touch it. I'm watching you!\n",
        "1. Build a baseline model - no feature engineering, no feature selection, no hyperparameter tuning (just use the default settings), nothing fancy. (You may need to do some basic feature transformations, e.g., encoding of categorical features, or dropping of features you do not think will help or do not want to deal with yet.) Measure the performance using K-fold cross validation (recommended: [`sklearn.model_selection.cross_val_score`](https://scikit-learn.org/stable/modules/generated/sklearn.model_selection.cross_val_score.html#sklearn.model_selection.cross_val_score)) on the training data. Use at least 5 folds, but more are better. Choose a [`scoring` parameter](https://scikit-learn.org/stable/modules/model_evaluation.html#scoring-parameter) (i.e., classification metric) that you feel is appropriate for this task. Don't use accuracy. Print the mean score of your model.\n",
        "2. Add a bit of feature engineering. The [`sklearn.preprocessing`](https://scikit-learn.org/stable/modules/classes.html#module-sklearn.preprocessing) module contains many useful transformations. Engineer at least three new features. They don't need to be especially ground-breaking or complicated. Dimensionality reduction techniques like [`sklearn.decomposition.PCA`](https://scikit-learn.org/stable/modules/generated/sklearn.decomposition.PCA.html) are fair game but not required. (If you do use dimensionality reduction techniques, it would only count as \"one\" new feature for the purposes of this assignment, even though I realize that PCA creates many new \"features\" (i.e., principal componentns).) Re-train your baseline model. Measure performance. Compare to step 1.\n",
        "3. Add feature selection. The [`sklearn.feature_selection`](https://scikit-learn.org/stable/modules/classes.html#module-sklearn.feature_selection) has some algorithms for you to choose from. After selecting features, re-train your model, measure performance, and compare to step 2.\n",
        "4. Add hyperparameter tuning. Make reasonable choices and try to find the best (or at least, better) hyperparameters for your estimator and/or transformers. It's probably a good idea to stop using `cross_val_score` at this point and start using [`sklearn.model_selection.GridSearchCV`](https://scikit-learn.org/stable/modules/generated/sklearn.model_selection.GridSearchCV.html#sklearn.model_selection.GridSearchCV) as it is specifically built for this purpose and is more convienient to use. Measure performance and compare to step 3.\n",
        "5. Finally, estimate how well your model will work in production. Use the testing data (our \"future, unseen data\") from step 0. Transform the data as appropriate (easy if you've built a pipeline, a little more difficult if not), use the model from step 4 to get predictions, and measure the performance. How well did we do? \n",
        "\n",
        "\n",
        "**Marking**\n",
        "\n",
        "Each part will be marked for:\n",
        "- *Correctness*. Code clearly and fully performs the task specified.\n",
        "- *Reproducibility*. Code is fully reproducible. I.e., you (and I) should be able to run this Notebook again and again, from top to bottom, and get the same results each and every time.\n",
        "- *Style*. Code is organized. All parts commented with clear reasoning and rationale. No old code laying around. Code easy to follow. \n",
        "\n",
        "\n",
        "**Tips**\n",
        "- The origins of the dataset are a bit of a mystery. Assume the data set is recent (circa 2021) and up-to-date. Assume that column names are correct and accurate.\n",
        "- You don't need to experiment with more than one algorithm/estimator. Just choose one (e.g., [`sklearn.tree.DecisionTreeClassifier`](https://scikit-learn.org/stable/modules/generated/sklearn.tree.DecisionTreeClassifier.html#sklearn.tree.DecisionTreeClassifier), [`sklearn.ensemble.RandomForestClassifier`](https://scikit-learn.org/stable/modules/generated/sklearn.ensemble.RandomForestClassifier.html#sklearn.ensemble.RandomForestClassifier), [`sklearn.linear_model.LogisticRegression`](https://scikit-learn.org/stable/modules/generated/sklearn.linear_model.LogisticRegression.html#sklearn.linear_model.LogisticRegression), [`sklearn.svm.LinearSVC`](https://scikit-learn.org/stable/modules/generated/sklearn.svm.LinearSVC.html#sklearn.svm.LinearSVC), whatever) and stick with it for this question. \n",
        "- There is no minimum accuracy/precision/recall for this question. I.e., your mark will not be based on how good your model is. Rather, you mark will be based on good your process is.\n",
        "- Watch out for data leakage and overfitting. In particular, be sure to `fit()` any estimators and transformers (collectively, *objects*) only to the training data, and then use the objects' `transform()` methods on both the training and testing data. [Data School](https://www.youtube.com/c/dataschool/featured) has a [helpful video](https://www.youtube.com/watch?v=g2XsZdwbCCs) about this. [Pipelines](https://www.youtube.com/watch?v=1Y6O9nCo0-I) are very helpful here and make your code shorter and more robust (at the expense of making it harder to understand), and I recommend using them, but they are not required for this assignment.\n",
        "- Create as many code cells as you need. In general, each cell should do one \"thing.\"\n",
        "-\tDon't print large volumes of output. E.g., don't do: `df.head(100)`\n",
        "\n",
        "\n"
      ]
    },
    {
      "cell_type": "markdown",
      "metadata": {
        "id": "jqm_REd4oouz"
      },
      "source": [
        "## 3.0: Load data and split"
      ]
    },
    {
      "cell_type": "code",
      "execution_count": null,
      "metadata": {
        "colab": {
          "base_uri": "https://localhost:8080/"
        },
        "id": "X6b_BM0Nz9sF",
        "outputId": "aa77f2e3-c6a2-4b80-bfcf-75fb641234ea"
      },
      "outputs": [],
      "source": [
        "# DO NOT MODIFY THIS CELL\n",
        "\n",
        "# First, we'll read the provided labeled training data\n",
        "df3 = pd.read_csv(\"https://drive.google.com/uc?export=download&id=1wOhyCnvGeY4jplxI8lZ-bbYN3zLtickf\")\n",
        "df3.info()\n",
        "\n",
        "from sklearn.model_selection import train_test_split\n",
        "\n",
        "X = df3.drop('BadCredit', axis=1) #.select_dtypes(['number'])\n",
        "y = df3['BadCredit']\n",
        "\n",
        "X_train, X_test, y_train, y_test = train_test_split(X, y, test_size=0.2, random_state=42)"
      ]
    },
    {
      "cell_type": "code",
      "execution_count": 4,
      "metadata": {},
      "outputs": [
        {
          "data": {
            "text/html": [
              "<div>\n",
              "<style scoped>\n",
              "    .dataframe tbody tr th:only-of-type {\n",
              "        vertical-align: middle;\n",
              "    }\n",
              "\n",
              "    .dataframe tbody tr th {\n",
              "        vertical-align: top;\n",
              "    }\n",
              "\n",
              "    .dataframe thead th {\n",
              "        text-align: right;\n",
              "    }\n",
              "</style>\n",
              "<table border=\"1\" class=\"dataframe\">\n",
              "  <thead>\n",
              "    <tr style=\"text-align: right;\">\n",
              "      <th></th>\n",
              "      <th>PreviousDefault</th>\n",
              "      <th>NumberPets</th>\n",
              "      <th>PreviousAccounts</th>\n",
              "      <th>ResidenceDuration</th>\n",
              "      <th>BadCredit</th>\n",
              "      <th>Amount</th>\n",
              "      <th>Married</th>\n",
              "      <th>Duration</th>\n",
              "    </tr>\n",
              "  </thead>\n",
              "  <tbody>\n",
              "    <tr>\n",
              "      <th>count</th>\n",
              "      <td>6000.000000</td>\n",
              "      <td>6000.000000</td>\n",
              "      <td>6000.000000</td>\n",
              "      <td>6000.00000</td>\n",
              "      <td>6000.000000</td>\n",
              "      <td>6000.000000</td>\n",
              "      <td>6000.000000</td>\n",
              "      <td>6000.000000</td>\n",
              "    </tr>\n",
              "    <tr>\n",
              "      <th>mean</th>\n",
              "      <td>0.019333</td>\n",
              "      <td>1.020333</td>\n",
              "      <td>1.007500</td>\n",
              "      <td>1.98850</td>\n",
              "      <td>0.172167</td>\n",
              "      <td>3591.304000</td>\n",
              "      <td>0.505167</td>\n",
              "      <td>24.150000</td>\n",
              "    </tr>\n",
              "    <tr>\n",
              "      <th>std</th>\n",
              "      <td>0.137705</td>\n",
              "      <td>0.817332</td>\n",
              "      <td>1.009429</td>\n",
              "      <td>1.39189</td>\n",
              "      <td>0.377557</td>\n",
              "      <td>427.029726</td>\n",
              "      <td>0.500015</td>\n",
              "      <td>9.432514</td>\n",
              "    </tr>\n",
              "    <tr>\n",
              "      <th>min</th>\n",
              "      <td>0.000000</td>\n",
              "      <td>0.000000</td>\n",
              "      <td>0.000000</td>\n",
              "      <td>0.00000</td>\n",
              "      <td>0.000000</td>\n",
              "      <td>2158.000000</td>\n",
              "      <td>0.000000</td>\n",
              "      <td>6.000000</td>\n",
              "    </tr>\n",
              "    <tr>\n",
              "      <th>25%</th>\n",
              "      <td>0.000000</td>\n",
              "      <td>0.000000</td>\n",
              "      <td>0.000000</td>\n",
              "      <td>1.00000</td>\n",
              "      <td>0.000000</td>\n",
              "      <td>3290.000000</td>\n",
              "      <td>0.000000</td>\n",
              "      <td>18.000000</td>\n",
              "    </tr>\n",
              "    <tr>\n",
              "      <th>50%</th>\n",
              "      <td>0.000000</td>\n",
              "      <td>1.000000</td>\n",
              "      <td>1.000000</td>\n",
              "      <td>2.00000</td>\n",
              "      <td>0.000000</td>\n",
              "      <td>3595.000000</td>\n",
              "      <td>1.000000</td>\n",
              "      <td>24.000000</td>\n",
              "    </tr>\n",
              "    <tr>\n",
              "      <th>75%</th>\n",
              "      <td>0.000000</td>\n",
              "      <td>2.000000</td>\n",
              "      <td>2.000000</td>\n",
              "      <td>3.00000</td>\n",
              "      <td>0.000000</td>\n",
              "      <td>3902.000000</td>\n",
              "      <td>1.000000</td>\n",
              "      <td>30.000000</td>\n",
              "    </tr>\n",
              "    <tr>\n",
              "      <th>max</th>\n",
              "      <td>1.000000</td>\n",
              "      <td>2.000000</td>\n",
              "      <td>6.000000</td>\n",
              "      <td>9.00000</td>\n",
              "      <td>1.000000</td>\n",
              "      <td>4982.000000</td>\n",
              "      <td>1.000000</td>\n",
              "      <td>36.000000</td>\n",
              "    </tr>\n",
              "  </tbody>\n",
              "</table>\n",
              "</div>"
            ],
            "text/plain": [
              "       PreviousDefault   NumberPets  PreviousAccounts  ResidenceDuration  \\\n",
              "count      6000.000000  6000.000000       6000.000000         6000.00000   \n",
              "mean          0.019333     1.020333          1.007500            1.98850   \n",
              "std           0.137705     0.817332          1.009429            1.39189   \n",
              "min           0.000000     0.000000          0.000000            0.00000   \n",
              "25%           0.000000     0.000000          0.000000            1.00000   \n",
              "50%           0.000000     1.000000          1.000000            2.00000   \n",
              "75%           0.000000     2.000000          2.000000            3.00000   \n",
              "max           1.000000     2.000000          6.000000            9.00000   \n",
              "\n",
              "         BadCredit       Amount      Married     Duration  \n",
              "count  6000.000000  6000.000000  6000.000000  6000.000000  \n",
              "mean      0.172167  3591.304000     0.505167    24.150000  \n",
              "std       0.377557   427.029726     0.500015     9.432514  \n",
              "min       0.000000  2158.000000     0.000000     6.000000  \n",
              "25%       0.000000  3290.000000     0.000000    18.000000  \n",
              "50%       0.000000  3595.000000     1.000000    24.000000  \n",
              "75%       0.000000  3902.000000     1.000000    30.000000  \n",
              "max       1.000000  4982.000000     1.000000    36.000000  "
            ]
          },
          "execution_count": 4,
          "metadata": {},
          "output_type": "execute_result"
        }
      ],
      "source": [
        "df3.describe()"
      ]
    },
    {
      "cell_type": "code",
      "execution_count": 8,
      "metadata": {},
      "outputs": [
        {
          "data": {
            "text/plain": [
              "Series([], dtype: float64)"
            ]
          },
          "execution_count": 8,
          "metadata": {},
          "output_type": "execute_result"
        },
        {
          "data": {
            "text/plain": [
              "0    0.827833\n",
              "1    0.172167\n",
              "Name: BadCredit, dtype: float64"
            ]
          },
          "execution_count": 8,
          "metadata": {},
          "output_type": "execute_result"
        }
      ],
      "source": [
        "# check any missing\n",
        "df3.loc[:,df3.isnull().any()].isnull().sum()\n",
        "\n",
        "# base rate of the target\n",
        "df3['BadCredit'].value_counts(normalize=True)"
      ]
    },
    {
      "cell_type": "markdown",
      "metadata": {
        "id": "sdiKKblCo53S"
      },
      "source": [
        "## 3.1: Baseline model"
      ]
    },
    {
      "cell_type": "code",
      "execution_count": 169,
      "metadata": {},
      "outputs": [],
      "source": [
        "#  categorical variables\n",
        "for c in X_train.columns:\n",
        "    col_type = X_train[c].dtype\n",
        "    if col_type == 'object' or col_type.name == 'category':\n",
        "        X_train[c] = X_train[c].astype('category')\n",
        "\n",
        "\n",
        "for c in X_test.columns:\n",
        "    col_type = X_test[c].dtype\n",
        "    if col_type == 'object' or col_type.name == 'category':\n",
        "        X_test[c] = X_test[c].astype('category')"
      ]
    },
    {
      "cell_type": "code",
      "execution_count": 170,
      "metadata": {
        "id": "mSumAZUAo9O6"
      },
      "outputs": [
        {
          "name": "stdout",
          "output_type": "stream",
          "text": [
            "Fitting 5 folds for each of 1 candidates, totalling 5 fits\n",
            "[CV 1/5; 1/1] START ............................................................\n",
            "[CV 1/5; 1/1] END .............................., score=0.824 total time=   0.0s\n",
            "[CV 2/5; 1/1] START ............................................................\n",
            "[CV 2/5; 1/1] END .............................., score=0.822 total time=   0.0s\n",
            "[CV 3/5; 1/1] START ............................................................\n",
            "[CV 3/5; 1/1] END .............................., score=0.819 total time=   0.0s\n",
            "[CV 4/5; 1/1] START ............................................................\n",
            "[CV 4/5; 1/1] END .............................., score=0.828 total time=   0.0s\n",
            "[CV 5/5; 1/1] START ............................................................\n",
            "[CV 5/5; 1/1] END .............................., score=0.818 total time=   0.0s\n",
            "{} 0.8220174592439529\n"
          ]
        }
      ],
      "source": [
        "\n",
        "# Precision = TP /(TP+FP) how much predict true are actually true\n",
        "# Recall = TP/ (TP+FN) how much actual true are predicted correctlly\n",
        "# F1 = 2*Precision*Recall/(Precision + Recall)\n",
        "model = lgb.LGBMClassifier()\n",
        "params = {\n",
        "    }\n",
        "\n",
        "search = GridSearchCV(model,params,scoring='roc_auc',cv=5,verbose=20)\n",
        "search = search.fit(X_train,y_train)\n",
        "\n",
        "print(search.best_params_, search.best_score_)"
      ]
    },
    {
      "cell_type": "code",
      "execution_count": 171,
      "metadata": {},
      "outputs": [
        {
          "data": {
            "text/plain": [
              "<AxesSubplot:>"
            ]
          },
          "execution_count": 171,
          "metadata": {},
          "output_type": "execute_result"
        },
        {
          "data": {
            "text/plain": [
              "Text(0.5, 1.0, 'Feature Importances')"
            ]
          },
          "execution_count": 171,
          "metadata": {},
          "output_type": "execute_result"
        },
        {
          "data": {
            "image/png": "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",
            "text/plain": [
              "<Figure size 576x720 with 1 Axes>"
            ]
          },
          "metadata": {
            "needs_background": "light"
          },
          "output_type": "display_data"
        }
      ],
      "source": [
        "# feature importance\n",
        "feat_imp = pd.Series(search.best_estimator_.feature_importances_, index= X_train.columns)\n",
        "feat_imp.nlargest(30).sort_values(ascending=True).plot(kind='barh', figsize=(8,10))\n",
        "plt.title(\"Feature Importances\")"
      ]
    },
    {
      "cell_type": "code",
      "execution_count": 25,
      "metadata": {},
      "outputs": [
        {
          "data": {
            "text/plain": [
              "0.6425943539704229"
            ]
          },
          "execution_count": 25,
          "metadata": {},
          "output_type": "execute_result"
        }
      ],
      "source": [
        "# test result\n",
        "y_pred = search.best_estimator_.predict(X_test)\n",
        "\n",
        "# baseline result is 0.6425\n",
        "roc_auc_score(y_test,y_pred)"
      ]
    },
    {
      "cell_type": "markdown",
      "metadata": {
        "id": "ugyTS51Ko5vz"
      },
      "source": [
        "## 3.2: Feature engineering"
      ]
    },
    {
      "cell_type": "code",
      "execution_count": 112,
      "metadata": {
        "id": "742aYkYbprVD"
      },
      "outputs": [
        {
          "data": {
            "text/plain": [
              "Index(['PreviousDefault', 'NumberPets', 'PreviousAccounts',\n",
              "       'ResidenceDuration', 'BadCredit', 'Amount', 'Married', 'Duration'],\n",
              "      dtype='object')"
            ]
          },
          "execution_count": 112,
          "metadata": {},
          "output_type": "execute_result"
        },
        {
          "data": {
            "text/html": [
              "<div>\n",
              "<style scoped>\n",
              "    .dataframe tbody tr th:only-of-type {\n",
              "        vertical-align: middle;\n",
              "    }\n",
              "\n",
              "    .dataframe tbody tr th {\n",
              "        vertical-align: top;\n",
              "    }\n",
              "\n",
              "    .dataframe thead th {\n",
              "        text-align: right;\n",
              "    }\n",
              "</style>\n",
              "<table border=\"1\" class=\"dataframe\">\n",
              "  <thead>\n",
              "    <tr style=\"text-align: right;\">\n",
              "      <th></th>\n",
              "      <th>PreviousDefault</th>\n",
              "      <th>NumberPets</th>\n",
              "      <th>PreviousAccounts</th>\n",
              "      <th>ResidenceDuration</th>\n",
              "      <th>BadCredit</th>\n",
              "      <th>Amount</th>\n",
              "      <th>Married</th>\n",
              "      <th>Duration</th>\n",
              "    </tr>\n",
              "  </thead>\n",
              "  <tbody>\n",
              "    <tr>\n",
              "      <th>count</th>\n",
              "      <td>6000.000000</td>\n",
              "      <td>6000.000000</td>\n",
              "      <td>6000.000000</td>\n",
              "      <td>6000.00000</td>\n",
              "      <td>6000.000000</td>\n",
              "      <td>6000.000000</td>\n",
              "      <td>6000.000000</td>\n",
              "      <td>6000.000000</td>\n",
              "    </tr>\n",
              "    <tr>\n",
              "      <th>mean</th>\n",
              "      <td>0.019333</td>\n",
              "      <td>1.020333</td>\n",
              "      <td>1.007500</td>\n",
              "      <td>1.98850</td>\n",
              "      <td>0.172167</td>\n",
              "      <td>3591.304000</td>\n",
              "      <td>0.505167</td>\n",
              "      <td>24.150000</td>\n",
              "    </tr>\n",
              "    <tr>\n",
              "      <th>std</th>\n",
              "      <td>0.137705</td>\n",
              "      <td>0.817332</td>\n",
              "      <td>1.009429</td>\n",
              "      <td>1.39189</td>\n",
              "      <td>0.377557</td>\n",
              "      <td>427.029726</td>\n",
              "      <td>0.500015</td>\n",
              "      <td>9.432514</td>\n",
              "    </tr>\n",
              "    <tr>\n",
              "      <th>min</th>\n",
              "      <td>0.000000</td>\n",
              "      <td>0.000000</td>\n",
              "      <td>0.000000</td>\n",
              "      <td>0.00000</td>\n",
              "      <td>0.000000</td>\n",
              "      <td>2158.000000</td>\n",
              "      <td>0.000000</td>\n",
              "      <td>6.000000</td>\n",
              "    </tr>\n",
              "    <tr>\n",
              "      <th>25%</th>\n",
              "      <td>0.000000</td>\n",
              "      <td>0.000000</td>\n",
              "      <td>0.000000</td>\n",
              "      <td>1.00000</td>\n",
              "      <td>0.000000</td>\n",
              "      <td>3290.000000</td>\n",
              "      <td>0.000000</td>\n",
              "      <td>18.000000</td>\n",
              "    </tr>\n",
              "    <tr>\n",
              "      <th>50%</th>\n",
              "      <td>0.000000</td>\n",
              "      <td>1.000000</td>\n",
              "      <td>1.000000</td>\n",
              "      <td>2.00000</td>\n",
              "      <td>0.000000</td>\n",
              "      <td>3595.000000</td>\n",
              "      <td>1.000000</td>\n",
              "      <td>24.000000</td>\n",
              "    </tr>\n",
              "    <tr>\n",
              "      <th>75%</th>\n",
              "      <td>0.000000</td>\n",
              "      <td>2.000000</td>\n",
              "      <td>2.000000</td>\n",
              "      <td>3.00000</td>\n",
              "      <td>0.000000</td>\n",
              "      <td>3902.000000</td>\n",
              "      <td>1.000000</td>\n",
              "      <td>30.000000</td>\n",
              "    </tr>\n",
              "    <tr>\n",
              "      <th>max</th>\n",
              "      <td>1.000000</td>\n",
              "      <td>2.000000</td>\n",
              "      <td>6.000000</td>\n",
              "      <td>9.00000</td>\n",
              "      <td>1.000000</td>\n",
              "      <td>4982.000000</td>\n",
              "      <td>1.000000</td>\n",
              "      <td>36.000000</td>\n",
              "    </tr>\n",
              "  </tbody>\n",
              "</table>\n",
              "</div>"
            ],
            "text/plain": [
              "       PreviousDefault   NumberPets  PreviousAccounts  ResidenceDuration  \\\n",
              "count      6000.000000  6000.000000       6000.000000         6000.00000   \n",
              "mean          0.019333     1.020333          1.007500            1.98850   \n",
              "std           0.137705     0.817332          1.009429            1.39189   \n",
              "min           0.000000     0.000000          0.000000            0.00000   \n",
              "25%           0.000000     0.000000          0.000000            1.00000   \n",
              "50%           0.000000     1.000000          1.000000            2.00000   \n",
              "75%           0.000000     2.000000          2.000000            3.00000   \n",
              "max           1.000000     2.000000          6.000000            9.00000   \n",
              "\n",
              "         BadCredit       Amount      Married     Duration  \n",
              "count  6000.000000  6000.000000  6000.000000  6000.000000  \n",
              "mean      0.172167  3591.304000     0.505167    24.150000  \n",
              "std       0.377557   427.029726     0.500015     9.432514  \n",
              "min       0.000000  2158.000000     0.000000     6.000000  \n",
              "25%       0.000000  3290.000000     0.000000    18.000000  \n",
              "50%       0.000000  3595.000000     1.000000    24.000000  \n",
              "75%       0.000000  3902.000000     1.000000    30.000000  \n",
              "max       1.000000  4982.000000     1.000000    36.000000  "
            ]
          },
          "execution_count": 112,
          "metadata": {},
          "output_type": "execute_result"
        }
      ],
      "source": [
        "\n",
        "# look at the numeric columns\n",
        "df3.select_dtypes(include=np.number).columns\n",
        "\n",
        "df3.describe()"
      ]
    },
    {
      "cell_type": "markdown",
      "metadata": {},
      "source": [
        "Eventhough 'PreviousDefault', 'Married' are numeric variables, but they are indicate values,act more like categorical variables, will transfer them to categorical. 'NumberPets' seems only have 3 options, change to categorical as well."
      ]
    },
    {
      "cell_type": "code",
      "execution_count": 216,
      "metadata": {},
      "outputs": [],
      "source": [
        "X_train['PreviousDefault'] = X_train['PreviousDefault'].astype('category')\n",
        "X_train['Married']         = X_train['Married'].astype('category')\n",
        "X_train['NumberPets']      = X_train['NumberPets'].astype('category')\n",
        "\n",
        "\n",
        "X_test['PreviousDefault'] = X_test['PreviousDefault'].astype('category')\n",
        "X_test['Married']         = X_test['Married'].astype('category')\n",
        "X_test['NumberPets']      = X_test['NumberPets'].astype('category')"
      ]
    },
    {
      "cell_type": "code",
      "execution_count": 117,
      "metadata": {},
      "outputs": [
        {
          "data": {
            "text/plain": [
              "<Figure size 432x288 with 0 Axes>"
            ]
          },
          "execution_count": 117,
          "metadata": {},
          "output_type": "execute_result"
        },
        {
          "data": {
            "text/plain": [
              "[<matplotlib.lines.Line2D at 0x22d2b8f9280>]"
            ]
          },
          "execution_count": 117,
          "metadata": {},
          "output_type": "execute_result"
        },
        {
          "data": {
            "text/plain": [
              "Text(0.5, 1.0, 'PreviousAccounts vs BadCredit')"
            ]
          },
          "execution_count": 117,
          "metadata": {},
          "output_type": "execute_result"
        },
        {
          "data": {
            "image/png": "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",
            "text/plain": [
              "<Figure size 432x288 with 1 Axes>"
            ]
          },
          "metadata": {
            "needs_background": "light"
          },
          "output_type": "display_data"
        },
        {
          "data": {
            "text/plain": [
              "<Figure size 432x288 with 0 Axes>"
            ]
          },
          "execution_count": 117,
          "metadata": {},
          "output_type": "execute_result"
        },
        {
          "data": {
            "text/plain": [
              "[<matplotlib.lines.Line2D at 0x22d2b94dac0>]"
            ]
          },
          "execution_count": 117,
          "metadata": {},
          "output_type": "execute_result"
        },
        {
          "data": {
            "text/plain": [
              "Text(0.5, 1.0, 'ResidenceDuration vs BadCredit')"
            ]
          },
          "execution_count": 117,
          "metadata": {},
          "output_type": "execute_result"
        },
        {
          "data": {
            "image/png": "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",
            "text/plain": [
              "<Figure size 432x288 with 1 Axes>"
            ]
          },
          "metadata": {
            "needs_background": "light"
          },
          "output_type": "display_data"
        },
        {
          "data": {
            "text/plain": [
              "<Figure size 432x288 with 0 Axes>"
            ]
          },
          "execution_count": 117,
          "metadata": {},
          "output_type": "execute_result"
        },
        {
          "data": {
            "text/plain": [
              "[<matplotlib.lines.Line2D at 0x22d2b9af8b0>]"
            ]
          },
          "execution_count": 117,
          "metadata": {},
          "output_type": "execute_result"
        },
        {
          "data": {
            "text/plain": [
              "Text(0.5, 1.0, 'Amount vs BadCredit')"
            ]
          },
          "execution_count": 117,
          "metadata": {},
          "output_type": "execute_result"
        },
        {
          "data": {
            "image/png": "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",
            "text/plain": [
              "<Figure size 432x288 with 1 Axes>"
            ]
          },
          "metadata": {
            "needs_background": "light"
          },
          "output_type": "display_data"
        },
        {
          "data": {
            "text/plain": [
              "<Figure size 432x288 with 0 Axes>"
            ]
          },
          "execution_count": 117,
          "metadata": {},
          "output_type": "execute_result"
        },
        {
          "data": {
            "text/plain": [
              "[<matplotlib.lines.Line2D at 0x22d2ba17e50>]"
            ]
          },
          "execution_count": 117,
          "metadata": {},
          "output_type": "execute_result"
        },
        {
          "data": {
            "text/plain": [
              "Text(0.5, 1.0, 'Duration vs BadCredit')"
            ]
          },
          "execution_count": 117,
          "metadata": {},
          "output_type": "execute_result"
        },
        {
          "data": {
            "image/png": "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",
            "text/plain": [
              "<Figure size 432x288 with 1 Axes>"
            ]
          },
          "metadata": {
            "needs_background": "light"
          },
          "output_type": "display_data"
        }
      ],
      "source": [
        "# for remaining variable, try to look at their plot vs logit target\n",
        "\n",
        "l = df3.drop(labels=['PreviousDefault','BadCredit','Married','NumberPets'],axis=1).select_dtypes(include=np.number).columns\n",
        "\n",
        "for v in l:\n",
        "    # find the right size to bin x\n",
        "    test = df3.loc[:,[v,'BadCredit']]\n",
        "    test = test.dropna()\n",
        "    bins = np.unique(algos.quantile(test.loc[:,v], np.linspace(0, 1, 11)))\n",
        "    test['bin'] = pd.cut(test.loc[:,v], bins ,right=False)\n",
        "    \n",
        "    # using bin to get logit y\n",
        "    tt = test.groupby(['bin'],as_index= False).agg({ 'BadCredit':['count','sum'], \n",
        "                         v :'mean'})\n",
        "    tt['logity'] = np.log((tt.iloc[:,2] + 1)/(tt.iloc[:,1] -tt.iloc[:,2] + 1))\n",
        "    \n",
        "    # plot it\n",
        "    plt.figure()\n",
        "    plt.plot(tt.iloc[:,3],tt['logity'],color='blue')\n",
        "    plt.title(v +\" vs BadCredit\")\n",
        "    plt.show()"
      ]
    },
    {
      "cell_type": "code",
      "execution_count": 122,
      "metadata": {},
      "outputs": [
        {
          "data": {
            "text/plain": [
              "<Figure size 432x288 with 0 Axes>"
            ]
          },
          "execution_count": 122,
          "metadata": {},
          "output_type": "execute_result"
        },
        {
          "data": {
            "text/plain": [
              "(array([1741., 1822.,    0.,  837.,    0.,  301.,   76.,    0.,   16.,\n",
              "           7.]),\n",
              " array([0. , 0.6, 1.2, 1.8, 2.4, 3. , 3.6, 4.2, 4.8, 5.4, 6. ]),\n",
              " <BarContainer object of 10 artists>)"
            ]
          },
          "execution_count": 122,
          "metadata": {},
          "output_type": "execute_result"
        },
        {
          "data": {
            "text/plain": [
              "Text(0.5, 1.0, 'PreviousAccounts Distribution')"
            ]
          },
          "execution_count": 122,
          "metadata": {},
          "output_type": "execute_result"
        },
        {
          "data": {
            "image/png": "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",
            "text/plain": [
              "<Figure size 432x288 with 1 Axes>"
            ]
          },
          "metadata": {
            "needs_background": "light"
          },
          "output_type": "display_data"
        },
        {
          "data": {
            "text/plain": [
              "<Figure size 432x288 with 0 Axes>"
            ]
          },
          "execution_count": 122,
          "metadata": {},
          "output_type": "execute_result"
        },
        {
          "data": {
            "text/plain": [
              "(array([6.410e+02, 1.317e+03, 1.287e+03, 8.860e+02, 4.410e+02, 1.550e+02,\n",
              "        4.900e+01, 1.900e+01, 4.000e+00, 1.000e+00]),\n",
              " array([0. , 0.9, 1.8, 2.7, 3.6, 4.5, 5.4, 6.3, 7.2, 8.1, 9. ]),\n",
              " <BarContainer object of 10 artists>)"
            ]
          },
          "execution_count": 122,
          "metadata": {},
          "output_type": "execute_result"
        },
        {
          "data": {
            "text/plain": [
              "Text(0.5, 1.0, 'ResidenceDuration Distribution')"
            ]
          },
          "execution_count": 122,
          "metadata": {},
          "output_type": "execute_result"
        },
        {
          "data": {
            "image/png": "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",
            "text/plain": [
              "<Figure size 432x288 with 1 Axes>"
            ]
          },
          "metadata": {
            "needs_background": "light"
          },
          "output_type": "display_data"
        },
        {
          "data": {
            "text/plain": [
              "<Figure size 432x288 with 0 Axes>"
            ]
          },
          "execution_count": 122,
          "metadata": {},
          "output_type": "execute_result"
        },
        {
          "data": {
            "text/plain": [
              "(array([  16.,   83.,  298.,  785., 1086., 1154.,  870.,  415.,   84.,\n",
              "           9.]),\n",
              " array([2158. , 2440.4, 2722.8, 3005.2, 3287.6, 3570. , 3852.4, 4134.8,\n",
              "        4417.2, 4699.6, 4982. ]),\n",
              " <BarContainer object of 10 artists>)"
            ]
          },
          "execution_count": 122,
          "metadata": {},
          "output_type": "execute_result"
        },
        {
          "data": {
            "text/plain": [
              "Text(0.5, 1.0, 'Amount Distribution')"
            ]
          },
          "execution_count": 122,
          "metadata": {},
          "output_type": "execute_result"
        },
        {
          "data": {
            "image/png": "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",
            "text/plain": [
              "<Figure size 432x288 with 1 Axes>"
            ]
          },
          "metadata": {
            "needs_background": "light"
          },
          "output_type": "display_data"
        },
        {
          "data": {
            "text/plain": [
              "<Figure size 432x288 with 0 Axes>"
            ]
          },
          "execution_count": 122,
          "metadata": {},
          "output_type": "execute_result"
        },
        {
          "data": {
            "text/plain": [
              "(array([ 420.,    0.,  507.,    0.,  710.,    0.,  977.,    0., 1165.,\n",
              "        1021.]),\n",
              " array([ 6.,  9., 12., 15., 18., 21., 24., 27., 30., 33., 36.]),\n",
              " <BarContainer object of 10 artists>)"
            ]
          },
          "execution_count": 122,
          "metadata": {},
          "output_type": "execute_result"
        },
        {
          "data": {
            "text/plain": [
              "Text(0.5, 1.0, 'Duration Distribution')"
            ]
          },
          "execution_count": 122,
          "metadata": {},
          "output_type": "execute_result"
        },
        {
          "data": {
            "image/png": "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",
            "text/plain": [
              "<Figure size 432x288 with 1 Axes>"
            ]
          },
          "metadata": {
            "needs_background": "light"
          },
          "output_type": "display_data"
        }
      ],
      "source": [
        "# take a look at the historgram of each feature\n",
        "l = X_train.drop(labels=['PreviousDefault','Married','NumberPets'],axis=1).select_dtypes(include=np.number).columns\n",
        "\n",
        "for v in l:\n",
        "      # plot it\n",
        "    plt.figure()\n",
        "    plt.hist(X_train[v])\n",
        "    plt.title(v +\" Distribution\")\n",
        "    plt.show()"
      ]
    },
    {
      "cell_type": "code",
      "execution_count": 173,
      "metadata": {},
      "outputs": [
        {
          "data": {
            "text/plain": [
              "FunctionTransformer(func=<ufunc 'log1p'>, validate=True)"
            ]
          },
          "execution_count": 173,
          "metadata": {},
          "output_type": "execute_result"
        }
      ],
      "source": [
        "# from the distribtuion we see the feature is skew left, let's log it.\n",
        "scaler = FunctionTransformer(np.log1p, validate=True)\n",
        "scaler.fit(X_train[['ResidenceDuration']])\n",
        "X_train['ResidenceDuration_v2'] = scaler.transform(X_train[['ResidenceDuration']])   \n",
        "X_test['ResidenceDuration_v2'] = scaler.transform(X_test[['ResidenceDuration']]) "
      ]
    },
    {
      "cell_type": "code",
      "execution_count": 47,
      "metadata": {},
      "outputs": [
        {
          "data": {
            "text/plain": [
              "001-06-1660    1\n",
              "607-51-6204    1\n",
              "607-46-3512    1\n",
              "607-37-1918    1\n",
              "607-10-8782    1\n",
              "              ..\n",
              "299-51-1798    1\n",
              "299-19-7685    1\n",
              "299-18-4370    1\n",
              "298-79-4530    1\n",
              "899-87-9592    1\n",
              "Name: UserID, Length: 4800, dtype: int64"
            ]
          },
          "execution_count": 47,
          "metadata": {},
          "output_type": "execute_result"
        },
        {
          "data": {
            "text/plain": [
              "F    3338\n",
              "M    1462\n",
              "Name: Sex, dtype: int64"
            ]
          },
          "execution_count": 47,
          "metadata": {},
          "output_type": "execute_result"
        },
        {
          "data": {
            "text/plain": [
              "0    4703\n",
              "1      97\n",
              "Name: PreviousDefault, dtype: int64"
            ]
          },
          "execution_count": 47,
          "metadata": {},
          "output_type": "execute_result"
        },
        {
          "data": {
            "text/plain": [
              "Jennifer    100\n",
              "Michael      72\n",
              "Jessica      72\n",
              "Lisa         66\n",
              "Sarah        66\n",
              "           ... \n",
              "Patty         1\n",
              "Seth          1\n",
              "Clayton       1\n",
              "Lucas         1\n",
              "Mikayla       1\n",
              "Name: FirstName, Length: 568, dtype: int64"
            ]
          },
          "execution_count": 47,
          "metadata": {},
          "output_type": "execute_result"
        },
        {
          "data": {
            "text/plain": [
              "Smith       96\n",
              "Johnson     80\n",
              "Jones       74\n",
              "Brown       64\n",
              "Williams    60\n",
              "            ..\n",
              "Durham       1\n",
              "Mcdowell     1\n",
              "Eaton        1\n",
              "Bray         1\n",
              "Hebert       1\n",
              "Name: LastName, Length: 907, dtype: int64"
            ]
          },
          "execution_count": 47,
          "metadata": {},
          "output_type": "execute_result"
        },
        {
          "data": {
            "text/plain": [
              "000 Frazier Expressway             1\n",
              "670 Fitzgerald Corner Suite 446    1\n",
              "6699 Gray Crescent                 1\n",
              "6698 Marie Plaza                   1\n",
              "66919 Jackson Loop                 1\n",
              "                                  ..\n",
              "335 Barry Pike Suite 611           1\n",
              "33497 Cindy Ville Suite 010        1\n",
              "3344 Robert Fords Suite 892        1\n",
              "3344 Dan Loop Suite 100            1\n",
              "99975 Hobbs Circle Suite 185       1\n",
              "Name: Street, Length: 4800, dtype: int64"
            ]
          },
          "execution_count": 47,
          "metadata": {},
          "output_type": "execute_result"
        },
        {
          "data": {
            "text/plain": [
              "2P592       2\n",
              "D65 9DV     1\n",
              "D60 3AT     1\n",
              "D43-BAS     1\n",
              "D42 7FL     1\n",
              "           ..\n",
              "531-DNQ     1\n",
              "531 VTP     1\n",
              "530-SLN     1\n",
              "53-W552     1\n",
              "ZZZ-4034    1\n",
              "Name: LicensePlate, Length: 4799, dtype: int64"
            ]
          },
          "execution_count": 47,
          "metadata": {},
          "output_type": "execute_result"
        },
        {
          "data": {
            "text/plain": [
              "1    2426\n",
              "0    2374\n",
              "Name: Married, dtype: int64"
            ]
          },
          "execution_count": 47,
          "metadata": {},
          "output_type": "execute_result"
        },
        {
          "data": {
            "text/plain": [
              "North Judithbury    1319\n",
              "East Jill            652\n",
              "New Roberttown       467\n",
              "East Jessetown       341\n",
              "Lake Debra           278\n",
              "Robinsonshire        252\n",
              "Lisatown             169\n",
              "Lake Roberto         164\n",
              "Ericmouth            155\n",
              "North Noahstad       139\n",
              "Cassandraton         130\n",
              "New Kellystad         99\n",
              "Lake Chad             97\n",
              "Herrerafurt           96\n",
              "Ramirezstad           94\n",
              "Port Keith            91\n",
              "Port Jesseville       70\n",
              "New Jessica           67\n",
              "West Michael          64\n",
              "Jacquelineland        56\n",
              "Name: City, dtype: int64"
            ]
          },
          "execution_count": 47,
          "metadata": {},
          "output_type": "execute_result"
        },
        {
          "data": {
            "text/plain": [
              "NewCar       1455\n",
              "UsedCar      1102\n",
              "Other         740\n",
              "Household     478\n",
              "Vacation      350\n",
              "Repair        348\n",
              "Education     258\n",
              "Business       69\n",
              "Name: Purpose, dtype: int64"
            ]
          },
          "execution_count": 47,
          "metadata": {},
          "output_type": "execute_result"
        },
        {
          "data": {
            "text/plain": [
              "1971-07-06    7\n",
              "1970-09-15    5\n",
              "1969-09-10    5\n",
              "1975-06-29    5\n",
              "1974-04-08    5\n",
              "             ..\n",
              "1971-06-16    1\n",
              "1971-06-17    1\n",
              "1971-06-21    1\n",
              "1971-07-02    1\n",
              "1994-07-28    1\n",
              "Name: DateOfBirth, Length: 3570, dtype: int64"
            ]
          },
          "execution_count": 47,
          "metadata": {},
          "output_type": "execute_result"
        }
      ],
      "source": [
        "# look at categorical variables\n",
        "l= X_train.select_dtypes(exclude = np.number).columns\n",
        "\n",
        "for v in l:\n",
        "    X_train[v].value_counts()\n"
      ]
    },
    {
      "cell_type": "markdown",
      "metadata": {},
      "source": [
        "After freqency count for each categorical variable, we see 'UserID','Street','LicensePlate' have 4800 or 4799 levels. This means each customer has one level, which is not usefull at all.\n",
        "\n",
        "For street, I will remove street suite number and street number to see whether we can have a better result.\n",
        "\n",
        "'DateOfBirth' has 3570 level as well, we will calcuate age of the customer instead.\n",
        "\n",
        "'FirstName' and 'LastName' are so unique to a person, don't have meaning to predict.\n"
      ]
    },
    {
      "cell_type": "code",
      "execution_count": 188,
      "metadata": {},
      "outputs": [],
      "source": [
        "# calculate age\n",
        "X_train['DateOfBirth']= pd.to_datetime(X_train['DateOfBirth'])\n",
        "X_test['DateOfBirth'] = pd.to_datetime(X_test['DateOfBirth'])\n",
        "\n",
        "today = pd.to_datetime(\"2021-12-11\")\n",
        "X_train['Age']=[today - x   for x in X_train['DateOfBirth']]\n",
        "X_test['Age']=[today - x   for x in X_test['DateOfBirth']]\n",
        "# transfer to year\n",
        "X_train['Age']= X_train['Age'].astype('timedelta64[Y]').astype('int')\n",
        "X_test['Age']= X_test['Age'].astype('timedelta64[Y]').astype('int')"
      ]
    },
    {
      "cell_type": "code",
      "execution_count": 175,
      "metadata": {},
      "outputs": [
        {
          "data": {
            "text/plain": [
              " Elizabeth Summit     3\n",
              " Joseph Expressway    3\n",
              " Williams Roads       3\n",
              " Christine River      3\n",
              " Margaret Plaza       2\n",
              "                     ..\n",
              " Betty Loop           1\n",
              " Lawrence Course      1\n",
              " Gilbert Street       1\n",
              " Eric Ramp            1\n",
              " Samuel Meadow        1\n",
              "Name: Street, Length: 4706, dtype: int64"
            ]
          },
          "execution_count": 175,
          "metadata": {},
          "output_type": "execute_result"
        }
      ],
      "source": [
        "# street remove appt/suite and street number\n",
        "X_train['Street']= [re.sub(r'( Suite.*) |( Apt..*)','', x) for x in X_train['Street']]\n",
        "\n",
        "X_train['Street']= [re.sub(r'^\\s*\\d+','', x) for x in X_train['Street']]\n",
        "X_train['Street'].value_counts()"
      ]
    },
    {
      "cell_type": "markdown",
      "metadata": {},
      "source": [
        "Since we removed appt/suite number their are still too many levels, we won't use it in model."
      ]
    },
    {
      "cell_type": "markdown",
      "metadata": {
        "id": "PsdD0clko5pz"
      },
      "source": [
        "## 3.3: Feature selection"
      ]
    },
    {
      "cell_type": "code",
      "execution_count": 217,
      "metadata": {},
      "outputs": [],
      "source": [
        "# drop the categorical columns we don't use\n",
        "X_train_v2= X_train.drop(labels=['UserID','FirstName', 'LastName','Street','LicensePlate','DateOfBirth'],axis=1)\n",
        "X_test_v2= X_test.drop(labels=['UserID','FirstName', 'LastName','Street','LicensePlate','DateOfBirth'],axis=1)"
      ]
    },
    {
      "cell_type": "code",
      "execution_count": 190,
      "metadata": {},
      "outputs": [
        {
          "data": {
            "text/plain": [
              "Index([], dtype='object')"
            ]
          },
          "execution_count": 190,
          "metadata": {},
          "output_type": "execute_result"
        }
      ],
      "source": [
        "# check whether any column differences exist\n",
        "X_train_v2.columns.difference(X_test_v2.columns)"
      ]
    },
    {
      "cell_type": "code",
      "execution_count": 191,
      "metadata": {},
      "outputs": [
        {
          "data": {
            "text/plain": [
              "OneHotEncoder(handle_unknown='ignore')"
            ]
          },
          "execution_count": 191,
          "metadata": {},
          "output_type": "execute_result"
        }
      ],
      "source": [
        "# Encoder your features\n",
        "enc = OneHotEncoder(handle_unknown='ignore')\n",
        "enc.fit(X_train_v2)\n",
        "\n",
        "onehotlabels      = enc.transform(X_train_v2).toarray()\n",
        "onehotlabels_test = enc.transform(X_test_v2).toarray()"
      ]
    },
    {
      "cell_type": "code",
      "execution_count": 192,
      "metadata": {},
      "outputs": [
        {
          "data": {
            "text/plain": [
              "OneHotEncoder(handle_unknown='ignore')"
            ]
          },
          "execution_count": 192,
          "metadata": {},
          "output_type": "execute_result"
        },
        {
          "data": {
            "text/plain": [
              "(4800, 1751)"
            ]
          },
          "execution_count": 192,
          "metadata": {},
          "output_type": "execute_result"
        }
      ],
      "source": [
        "# Encoder your features\n",
        "enc = OneHotEncoder(handle_unknown='ignore')\n",
        "enc.fit(X_train_v2)\n",
        "\n",
        "onehotlabels      = enc.transform(X_train_v2).toarray()\n",
        "onehotlabels_test = enc.transform(X_test_v2).toarray()\n",
        "onehotlabels.shape"
      ]
    },
    {
      "cell_type": "code",
      "execution_count": 203,
      "metadata": {
        "id": "rxX2ERqzpqxi"
      },
      "outputs": [
        {
          "data": {
            "text/plain": [
              "(4800, 50)"
            ]
          },
          "execution_count": 203,
          "metadata": {},
          "output_type": "execute_result"
        }
      ],
      "source": [
        "# selectKBest\n",
        "sel = SelectKBest(chi2, k= 50)\n",
        "sel = sel.fit(onehotlabels, y_train)\n",
        "\n",
        "X_train_new = sel.transform(onehotlabels)\n",
        "X_test_new = sel.transform(onehotlabels_test)\n",
        "\n",
        "X_train_new.shape"
      ]
    },
    {
      "cell_type": "code",
      "execution_count": 204,
      "metadata": {},
      "outputs": [
        {
          "name": "stdout",
          "output_type": "stream",
          "text": [
            "Fitting 5 folds for each of 1 candidates, totalling 5 fits\n",
            "[CV 1/5; 1/1] START ............................................................\n",
            "[CV 1/5; 1/1] END .............................., score=0.838 total time=   0.0s\n",
            "[CV 2/5; 1/1] START ............................................................\n",
            "[CV 2/5; 1/1] END .............................., score=0.816 total time=   0.0s\n",
            "[CV 3/5; 1/1] START ............................................................\n",
            "[CV 3/5; 1/1] END .............................., score=0.832 total time=   0.0s\n",
            "[CV 4/5; 1/1] START ............................................................\n",
            "[CV 4/5; 1/1] END .............................., score=0.826 total time=   0.0s\n",
            "[CV 5/5; 1/1] START ............................................................\n",
            "[CV 5/5; 1/1] END .............................., score=0.822 total time=   0.0s\n",
            "{} 0.8267552834397949\n"
          ]
        }
      ],
      "source": [
        "# re-train the model\n",
        "model = lgb.LGBMClassifier()\n",
        "params = {\n",
        "    }\n",
        "\n",
        "search = GridSearchCV(model,params,scoring='roc_auc',cv=5,verbose=20)\n",
        "search = search.fit(X_train_new,y_train)\n",
        "\n",
        "print(search.best_params_, search.best_score_)"
      ]
    },
    {
      "cell_type": "markdown",
      "metadata": {},
      "source": [
        "compare with the base model 0.822017, there is a small improvement in current model, we have 0.826949 roc now."
      ]
    },
    {
      "cell_type": "markdown",
      "metadata": {
        "id": "Ff4l2aNKo5fr"
      },
      "source": [
        "## 3.4: Hyperparameter tuning"
      ]
    },
    {
      "cell_type": "code",
      "execution_count": null,
      "metadata": {
        "id": "7XaxtTWMpIpP"
      },
      "outputs": [],
      "source": [
        "# try different hyperparameter tuning, try hyperparameter with the matrix without feature selection\n",
        "model = lgb.LGBMClassifier(random_state=42)\n",
        "params = {\n",
        "           'learning_rate':[0.1,0.08,0.06],\n",
        "           'num_iterations': [800,1000],\n",
        "           'num_leaves':[70,80,100],\n",
        "           'min_data_in_leaf':[50,40],\n",
        "           'zero_as_missing': ['True','False']\n",
        "    }\n",
        "\n",
        "search = GridSearchCV(model,params,scoring='roc_auc',cv=5,verbose=20)\n",
        "search = search.fit(X_train_v2,y_train)"
      ]
    },
    {
      "cell_type": "code",
      "execution_count": 206,
      "metadata": {},
      "outputs": [
        {
          "name": "stdout",
          "output_type": "stream",
          "text": [
            "{'learning_rate': 0.06, 'min_data_in_leaf': 50, 'num_iterations': 800, 'num_leaves': 100, 'zero_as_missing': 'True'} 0.9075738235306279\n"
          ]
        }
      ],
      "source": [
        "print(search.best_params_, search.best_score_)"
      ]
    },
    {
      "cell_type": "code",
      "execution_count": null,
      "metadata": {},
      "outputs": [],
      "source": [
        "# try different hyperparameter tuning, try hyperparameter with the matrix with feature selection\n",
        "model = lgb.LGBMClassifier(random_state=42)\n",
        "params = {\n",
        "           'learning_rate':[0.1,0.08,0.06],\n",
        "           'num_iterations': [800,1000],\n",
        "           'num_leaves':[70,80,100],\n",
        "           'min_data_in_leaf':[50,40],\n",
        "           'zero_as_missing': ['True','False']\n",
        "    }\n",
        "\n",
        "search = GridSearchCV(model,params,scoring='roc_auc',cv=5,verbose=20)\n",
        "search = search.fit(X_train_new,y_train)"
      ]
    },
    {
      "cell_type": "code",
      "execution_count": 208,
      "metadata": {},
      "outputs": [
        {
          "name": "stdout",
          "output_type": "stream",
          "text": [
            "{'learning_rate': 0.06, 'min_data_in_leaf': 40, 'num_iterations': 800, 'num_leaves': 70, 'zero_as_missing': 'True'} 0.80923936183495\n"
          ]
        }
      ],
      "source": [
        "print(search.best_params_, search.best_score_)"
      ]
    },
    {
      "cell_type": "markdown",
      "metadata": {},
      "source": [
        "We tried exactly same hyperparameter options with two different training dataset, original training data with feature engineering performance better, this might because the LGBM can handle the categorical features directly. From now on, will try hyperparameter tunning in X_train_v2(orginal dataset with feature engineering)."
      ]
    },
    {
      "cell_type": "code",
      "execution_count": null,
      "metadata": {},
      "outputs": [],
      "source": [
        "# try different tunning\n",
        "# {'learning_rate': 0.04, 'min_data_in_leaf': 50, 'num_iterations': 700, 'num_leaves': 100, 'zero_as_missing': 'True'} 0.9111680479823148\n",
        "# {'learning_rate': 0.04, 'min_data_in_leaf': 50, 'num_iterations': 650, 'num_leaves': 105} 0.9116384382201907\n",
        "model = lgb.LGBMClassifier(random_state=42,zero_as_missing=True)\n",
        "params = {\n",
        "           'learning_rate':[0.45,0.05,0.04],\n",
        "           'num_iterations': [750,700,650],\n",
        "           'num_leaves':[100,105,95],\n",
        "           'min_data_in_leaf':[50,55]\n",
        "    }\n",
        "\n",
        "search = GridSearchCV(model,params,scoring='roc_auc',cv=5,verbose=20)\n",
        "search = search.fit(X_train_v2,y_train)"
      ]
    },
    {
      "cell_type": "code",
      "execution_count": 212,
      "metadata": {},
      "outputs": [
        {
          "name": "stdout",
          "output_type": "stream",
          "text": [
            "{'learning_rate': 0.04, 'min_data_in_leaf': 50, 'num_iterations': 650, 'num_leaves': 105} 0.9116384382201907\n"
          ]
        }
      ],
      "source": [
        "print(search.best_params_, search.best_score_)"
      ]
    },
    {
      "cell_type": "code",
      "execution_count": 213,
      "metadata": {},
      "outputs": [
        {
          "data": {
            "text/plain": [
              "<AxesSubplot:>"
            ]
          },
          "execution_count": 213,
          "metadata": {},
          "output_type": "execute_result"
        },
        {
          "data": {
            "text/plain": [
              "Text(0.5, 1.0, 'Feature Importances')"
            ]
          },
          "execution_count": 213,
          "metadata": {},
          "output_type": "execute_result"
        },
        {
          "data": {
            "image/png": "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",
            "text/plain": [
              "<Figure size 576x720 with 1 Axes>"
            ]
          },
          "metadata": {
            "needs_background": "light"
          },
          "output_type": "display_data"
        }
      ],
      "source": [
        "# feature importance\n",
        "feat_imp = pd.Series(search.best_estimator_.feature_importances_, index= X_train_v2.columns)\n",
        "feat_imp.nlargest(30).sort_values(ascending=True).plot(kind='barh', figsize=(8,10))\n",
        "plt.title(\"Feature Importances\")"
      ]
    },
    {
      "cell_type": "markdown",
      "metadata": {},
      "source": [
        "The final model chosen here with the ROC 0.9116384382201907, which is way better than the result from step 3: 0.8267552834397949."
      ]
    },
    {
      "cell_type": "markdown",
      "metadata": {
        "id": "Te9gGGLEpXRG"
      },
      "source": [
        "## 3.5: Performance estimation"
      ]
    },
    {
      "cell_type": "code",
      "execution_count": 218,
      "metadata": {
        "id": "YV_35bEupbfs"
      },
      "outputs": [
        {
          "data": {
            "text/plain": [
              "0.7449775249977066"
            ]
          },
          "execution_count": 218,
          "metadata": {},
          "output_type": "execute_result"
        }
      ],
      "source": [
        "# TODO: Insert code here. Feel free to create additional code cells if necessary.\n",
        "# test result\n",
        "y_pred = search.best_estimator_.predict(X_test_v2)\n",
        "\n",
        "# baseline result is 0.6425\n",
        "roc_auc_score(y_test,y_pred)"
      ]
    },
    {
      "cell_type": "code",
      "execution_count": 223,
      "metadata": {},
      "outputs": [
        {
          "data": {
            "text/plain": [
              "array([[936,  55],\n",
              "       [ 95, 114]], dtype=int64)"
            ]
          },
          "execution_count": 223,
          "metadata": {},
          "output_type": "execute_result"
        },
        {
          "name": "stdout",
          "output_type": "stream",
          "text": [
            "              precision    recall  f1-score   support\n",
            "\n",
            "           0       0.91      0.94      0.93       991\n",
            "           1       0.67      0.55      0.60       209\n",
            "\n",
            "    accuracy                           0.88      1200\n",
            "   macro avg       0.79      0.74      0.76      1200\n",
            "weighted avg       0.87      0.88      0.87      1200\n",
            "\n"
          ]
        }
      ],
      "source": [
        "#confusion matrix\n",
        "confusion_matrix(y_test, y_pred)\n",
        "\n",
        "print(classification_report(y_test, y_pred))"
      ]
    },
    {
      "cell_type": "markdown",
      "metadata": {},
      "source": [
        "Recall for 1 is only 0.55 means for the people is actually bad credit score, only 55% of them can be identified, evernthough is better than the base rate 17%, sill not quite satisfy results."
      ]
    },
    {
      "cell_type": "markdown",
      "metadata": {
        "id": "bPiErnUaTQSk"
      },
      "source": [
        "# Question 4: Uncle Steve's Wind Farm"
      ]
    },
    {
      "cell_type": "markdown",
      "metadata": {
        "id": "NzLLQCmKTk9E"
      },
      "source": [
        "## Instructions\n",
        "\n",
        "\n",
        "Uncle Steve has invested in wind. He's built a BIG wind farm with a total of  700 turbines. He's been running the farm for a couple of years now and things are going well. He sells the power generated by the farm to the Kingston government and makes a tidy profit. And, of course, he has been gathering data about the turbines' operations.\n",
        "\n",
        "One area of concern, however, is the cost of maintenece. While the turbines are fairly robust, it seems like one breaks/fails every couple of days. When a turbine fails, it usually costs around \\$20,000 to repair it. Yikes!\n",
        "\n",
        "Currently, Uncle Steve is not doing any preventative maintenance. He just waits until a turbine fails, and then he fixes it. But Uncle Steve has recently learned that if he services a turbine *before* it fails, it will only cost around $2,000. \n",
        "\n",
        "Obviously, there is a potential to save a lot of money here. But first, Uncle Steve would need to figure out *which* turbines are about to fail. Uncle Steve being Uncle Steve, he wants to use ML to build a predictive maintenance model. The model will alert Uncle Steve to potential turbine failures before they happen, giving Uncle Steve a chance to perform an inspection on the turbine and then fix the turbine before it fails. Uncle Steve plans to run the model every morning. For all the turbines that the model predicts will fail, Uncle Steve will order an inspection (which cost a flat \\$500, no matter if the turbine was in good health or not; the \\$500 would not be part of the $2,000 service cost). For the rest of the turbines, Uncle Steve will do nothing.\n",
        "\n",
        "Uncle Steve has used the last few year's worth of operation data to build and assess a model to predict which turbines will fail on any given day. (The data includes useful features like sensor readings, power output, weather, and many more, but those are not important for now.) In fact, he didn't stop there: he built and assessed two models. One model uses using deep learning (in this case, RNNs), and the other uses random forests.\n",
        "\n",
        "He's tuned the bejeebers out of each model and is comfortable that he has found the best-performing version of each. Both models seem really good: both have accuracy scores > 99%. The RNN has better recall, but Uncle Steve is convinced that the random forest model will be better for him since it has better precision. Just to be sure, he has hired you to double check his calculations. \n",
        "\n",
        "**Your task**\n",
        "\n",
        " Which model will save Uncle Steve more money? Justify.\n",
        "\n",
        "\n",
        "In addition to the details above, here is the assessment of each model:\n",
        "\n",
        "- Confusion matrix for the random forest:\n",
        "\n",
        "|         | Predicted Fail           | Predicted No Fail  |\n",
        "| ------------- |------------| -----:|\n",
        "| **Actual Fail**      | 201 | 55 |\n",
        "| **Actual No Fail**   | 50 | 255195 |\n",
        "\n",
        "- Confusion matrix for the RNN:\n",
        "\n",
        "|         | Predicted Fail           | Predicted No Fail  |\n",
        "| ------------- |------------| -----:|\n",
        "| **Actual Fail**      | 226 | 30 |\n",
        "| **Actual No Fail**   | 1200 | 254045 |\n",
        "\n",
        "\n",
        "**Marking**\n",
        "\n",
        "- *Quality*. Response is well-justified and convincing. \n",
        "- *Style*. Response uses proper grammar, spelling, and punctuation. Response is clear and professional. Response is complete, but not overly-verbose. Response follows length guidelines.\n",
        "\n",
        "\n",
        "\n",
        "**Tips**\n",
        "\n",
        "- Figure out how much Uncle Steve is currently (i.e., without any predictive maintinance models) paying in maintenance costs.\n",
        "- Use the information provided above to create a cost matrix.\n",
        "- Use the cost matrix and the confusion matrices to determine the costs of each model.\n",
        "- The cost of an inspection is the same, no matter if the turbine is in good condition or is about to fail.\n",
        "- If the inspection determines that a turbine is about to fail, then it will be fixed right then and there for the additional fee.\n",
        "- For simplicity, assume the inspections are perfect: i.e., that inspecting a turbine will definitely catch any problems that might exist, and won't accidentally flag an otherwise-healthy turbine.\n",
        "\n"
      ]
    },
    {
      "cell_type": "markdown",
      "metadata": {},
      "source": [
        "\n",
        "No matter use which model, the actual fail is 256, this told us if we do nothing, $20,000 * 256 = $5,120,000 need to be paid.\n",
        "\n",
        "\n",
        "\n",
        "\n",
        "When using Random Forest:\n",
        "\n",
        "We predict (201 + 50) = 251 fail, and will need to spend $500 * 251 = $125,500 for the inspection.\n",
        "\n",
        "201 are actual fail and we predict fail, we need $2,000 * 201 = $402,000 to fix/maintien.\n",
        "\n",
        "55 are actual fail but we predict no fail, we need $20,000 * 55 = $1,100,000 to fix.\n",
        "\n",
        "Total money spend are $125,500 + $402,000 + $1,100,000 = $1,627,500.\n",
        "\n",
        "Therefore, we could save $5,120,000 - $1,627,500 = $3,492,500.\n",
        "\n",
        "\n",
        "\n",
        "\n",
        "\n",
        "\n",
        "\n",
        "When using RNN:\n",
        "\n",
        "We predict (226 + 1200) = 1426 fail, and will need to spend $500 * 1426 = $713,000 for the inspection.\n",
        "\n",
        "226 are actual fail and we predict fail, we need $2,000 * 226 = $452,000 to fix/maintien.\n",
        "\n",
        "30 are actual fail but we predict no fail, we need $20,000 * 30 = $600,000 to fix.\n",
        "\n",
        "Total money spend are $713,000 + $452,000 + $600,000 = $1,765,000.\n",
        "\n",
        "Therefore, we could save $5,120,000 - $1,765,000 = $3,355,000.\n",
        "\n",
        "\n",
        "\n",
        "After the comparison, we can see Random Forest model will save Uncle Steve more money."
      ]
    }
  ],
  "metadata": {
    "colab": {
      "collapsed_sections": [],
      "name": "MMA/GMMA 2022 869 Individual Assignment.ipynb",
      "provenance": []
    },
    "kernelspec": {
      "display_name": "Python 3",
      "name": "python3"
    },
    "language_info": {
      "codemirror_mode": {
        "name": "ipython",
        "version": 3
      },
      "file_extension": ".py",
      "mimetype": "text/x-python",
      "name": "python",
      "nbconvert_exporter": "python",
      "pygments_lexer": "ipython3",
      "version": "3.8.10"
    }
  },
  "nbformat": 4,
  "nbformat_minor": 0
}
